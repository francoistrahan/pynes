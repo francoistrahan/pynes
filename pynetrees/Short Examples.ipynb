{
 "cells": [
  {
   "cell_type": "markdown",
   "metadata": {},
   "source": [
    "# Notebook Setup"
   ]
  },
  {
   "cell_type": "markdown",
   "metadata": {},
   "source": [
    "## Usual libraries"
   ]
  },
  {
   "cell_type": "code",
   "execution_count": 1,
   "metadata": {},
   "outputs": [],
   "source": [
    "from math import *\n",
    "from datetime import datetime\n",
    "from functools import partial\n",
    "\n",
    "import pandas as pd\n",
    "import numpy as np\n",
    "import scipy as sp"
   ]
  },
  {
   "cell_type": "markdown",
   "metadata": {},
   "source": [
    "## Graph"
   ]
  },
  {
   "cell_type": "code",
   "execution_count": 2,
   "metadata": {},
   "outputs": [],
   "source": [
    "import matplotlib.pyplot as plt\n",
    "import seaborn as sb\n",
    "\n",
    "from matplotlib.ticker import FuncFormatter"
   ]
  },
  {
   "cell_type": "markdown",
   "metadata": {},
   "source": [
    "## DataFrame Display Helpers"
   ]
  },
  {
   "cell_type": "code",
   "execution_count": 3,
   "metadata": {},
   "outputs": [],
   "source": [
    "def display(dataframe, maxrows=999, fmt=None):\n",
    "    from IPython.display import display\n",
    "    \n",
    "    previousMaxRow = pd.options.display.max_rows\n",
    "    previousFloatFormat = pd.options.display.float_format    \n",
    "    \n",
    "    pd.options.display.max_rows = maxrows\n",
    "    if fmt: \n",
    "        pd.options.display.float_format = fmt\n",
    "        \n",
    "    display(dataframe)\n",
    "    \n",
    "    pd.options.display.max_rows = previousMaxRow\n",
    "    pd.options.display.float_format = previousFloatFormat\n",
    "    \n",
    "\n",
    "def colorNegativeRed(val):\n",
    "    if val < 0 :\n",
    "        return 'color: red'\n",
    "    else:\n",
    "        return 'color: black'\n",
    "    \n",
    "def formatCash(v, *args, decimals=True, zeroBar=True):\n",
    "    if np.isnan(v):\n",
    "        return \"nan\"\n",
    "    elif zeroBar and v == 0:\n",
    "        return \"-\"\n",
    "    else:\n",
    "        if decimals:\n",
    "            fmt = \"{}${:,.2f}\"\n",
    "        else:\n",
    "            fmt = \"{}${:,.0f}\"                \n",
    "        \n",
    "        return fmt.format(v<0 and \"-\" or \"\", abs(v))\n",
    "    \n",
    "formatInt = \"{:,.0f}\".format\n",
    "formatPct = \"{:.1%}\".format\n",
    "\n",
    "CASH_FORMATTER = FuncFormatter(partial(formatCash, decimals=False, zeroBar=False))\n",
    "PCT_FORMATTER_DEC_1 = FuncFormatter(formatPct)\n",
    "PCT_FORMATTER_DEC_NONE = FuncFormatter(\"{:.0%}\".format)"
   ]
  },
  {
   "cell_type": "markdown",
   "metadata": {},
   "source": [
    "# Pynetrees Stuff"
   ]
  },
  {
   "cell_type": "code",
   "execution_count": 4,
   "metadata": {},
   "outputs": [],
   "source": [
    "from pynetrees import *\n",
    "import pynetrees.cashflow\n",
    "from pynetrees.valueactualizer import *"
   ]
  },
  {
   "cell_type": "markdown",
   "metadata": {},
   "source": [
    "# Cashflows"
   ]
  },
  {
   "cell_type": "markdown",
   "metadata": {},
   "source": [
    "## Indexed Series"
   ]
  },
  {
   "cell_type": "code",
   "execution_count": 5,
   "metadata": {},
   "outputs": [
    {
     "name": "stdout",
     "output_type": "stream",
     "text": [
      "cf0:\n"
     ]
    },
    {
     "data": {
      "text/plain": [
       "0   -100\n",
       "dtype: int64"
      ]
     },
     "metadata": {},
     "output_type": "display_data"
    },
    {
     "name": "stdout",
     "output_type": "stream",
     "text": [
      "cf1:\n"
     ]
    },
    {
     "data": {
      "text/plain": [
       "1      10\n",
       "3      10\n",
       "10    100\n",
       "dtype: int64"
      ]
     },
     "metadata": {},
     "output_type": "display_data"
    },
    {
     "name": "stdout",
     "output_type": "stream",
     "text": [
      "cf2:\n"
     ]
    },
    {
     "data": {
      "text/plain": [
       "7     5\n",
       "8     5\n",
       "9     5\n",
       "10    5\n",
       "11    5\n",
       "12    5\n",
       "13    5\n",
       "14    5\n",
       "15    5\n",
       "16    5\n",
       "17    5\n",
       "18    5\n",
       "dtype: int64"
      ]
     },
     "metadata": {},
     "output_type": "display_data"
    }
   ],
   "source": [
    "CF = pynetrees.cashflow.create # helper\n",
    "AN = pynetrees.cashflow.indexAnnuity\n",
    "\n",
    "cf0 = CF(-100) # a scalar is taken at index 0\n",
    "cf1 = CF({1:10, 3:10, 10:100}) # an explicit index is used\n",
    "cf2 = AN(7, 12, 5) # annuity\n",
    "\n",
    "print(\"cf0:\")\n",
    "display(cf0)\n",
    "print(\"cf1:\")\n",
    "display(cf1)\n",
    "print(\"cf2:\")\n",
    "display(cf2)"
   ]
  },
  {
   "cell_type": "markdown",
   "metadata": {},
   "source": [
    "### Internal composition with indexed series"
   ]
  },
  {
   "cell_type": "code",
   "execution_count": 6,
   "metadata": {},
   "outputs": [
    {
     "data": {
      "text/plain": [
       "0    -100.0\n",
       "1      10.0\n",
       "3      10.0\n",
       "7       5.0\n",
       "8       5.0\n",
       "9       5.0\n",
       "10    105.0\n",
       "11      5.0\n",
       "12      5.0\n",
       "13      5.0\n",
       "14      5.0\n",
       "15      5.0\n",
       "16      5.0\n",
       "17      5.0\n",
       "18      5.0\n",
       "dtype: float64"
      ]
     },
     "metadata": {},
     "output_type": "display_data"
    }
   ],
   "source": [
    "cfTotal = pynetrees.cashflow.combineCashflows((cf0,cf1,cf2))\n",
    "display(cfTotal)"
   ]
  },
  {
   "cell_type": "markdown",
   "metadata": {},
   "source": [
    "### Internal TVM with indexed series"
   ]
  },
  {
   "cell_type": "code",
   "execution_count": 7,
   "metadata": {},
   "outputs": [
    {
     "name": "stdout",
     "output_type": "stream",
     "text": [
      "NPV, 10%: -25.610856949893815\n",
      "NPV, 0% (aka, sum): 80.0\n",
      "Time to recovery: 10\n"
     ]
    }
   ],
   "source": [
    "npv = IndexedNPV(0.1)\n",
    "print(\"NPV, 10%:\", npv.actualize(cfTotal))\n",
    "\n",
    "npv.ratePerPeriod = 0\n",
    "print(\"NPV, 0% (aka, sum):\", npv.actualize(cfTotal))\n",
    "\n",
    "print(\"Time to recovery:\", TTR_ACTUALIZER.actualize(cfTotal))"
   ]
  },
  {
   "cell_type": "markdown",
   "metadata": {},
   "source": [
    "## Period Series"
   ]
  },
  {
   "cell_type": "code",
   "execution_count": 8,
   "metadata": {},
   "outputs": [
    {
     "name": "stdout",
     "output_type": "stream",
     "text": [
      "cf0:\n",
      "2017-12   -100\n",
      "Freq: M, dtype: int64\n",
      "cf1:\n"
     ]
    },
    {
     "data": {
      "text/plain": [
       "2018-01     10\n",
       "2018-03     10\n",
       "2018-10    100\n",
       "Freq: M, dtype: int64"
      ]
     },
     "metadata": {},
     "output_type": "display_data"
    },
    {
     "name": "stdout",
     "output_type": "stream",
     "text": [
      "cf2:\n"
     ]
    },
    {
     "data": {
      "text/plain": [
       "2018-07    5\n",
       "2018-08    5\n",
       "2018-09    5\n",
       "2018-10    5\n",
       "2018-11    5\n",
       "2018-12    5\n",
       "2019-01    5\n",
       "2019-02    5\n",
       "2019-03    5\n",
       "2019-04    5\n",
       "2019-05    5\n",
       "2019-06    5\n",
       "Freq: M, dtype: int64"
      ]
     },
     "metadata": {},
     "output_type": "display_data"
    }
   ],
   "source": [
    "CF = pynetrees.cashflow.createMonths # helper\n",
    "AN = pynetrees.cashflow.annuityMonths\n",
    "\n",
    "cf0 = CF({\"2017-12\":-100})\n",
    "cf1 = CF({\"2018-01\":10, \"2018-03\":10, \"2018-10\":100}) # an explicit index is used\n",
    "\n",
    "cf2 = pd.Series(5, pd.period_range(\"2018-07\", periods=12, freq=\"M\")) # a pandas series can be used directly. Here, an annuity...\n",
    "\n",
    "def annuity(base, count, ammount):\n",
    "    return pd.Series(ammount, pd.period_range(base, periods=count, freq=\"M\"))\n",
    "\n",
    "cf2 = annuity(\"2018-07\", 12, 5)\n",
    "\n",
    "print(\"cf0:\")\n",
    "print(cf0)\n",
    "print(\"cf1:\")\n",
    "display(cf1)\n",
    "print(\"cf2:\")\n",
    "display(cf2)"
   ]
  },
  {
   "cell_type": "markdown",
   "metadata": {},
   "source": [
    "### Internal composition with indexed series"
   ]
  },
  {
   "cell_type": "code",
   "execution_count": 9,
   "metadata": {},
   "outputs": [
    {
     "data": {
      "text/plain": [
       "2017-12   -100.0\n",
       "2018-01     10.0\n",
       "2018-03     10.0\n",
       "2018-07      5.0\n",
       "2018-08      5.0\n",
       "2018-09      5.0\n",
       "2018-10    105.0\n",
       "2018-11      5.0\n",
       "2018-12      5.0\n",
       "2019-01      5.0\n",
       "2019-02      5.0\n",
       "2019-03      5.0\n",
       "2019-04      5.0\n",
       "2019-05      5.0\n",
       "2019-06      5.0\n",
       "Freq: M, dtype: float64"
      ]
     },
     "metadata": {},
     "output_type": "display_data"
    }
   ],
   "source": [
    "cfTotal = pynetrees.cashflow.combineCashflows((cf0,cf1,cf2))\n",
    "display(cfTotal)"
   ]
  },
  {
   "cell_type": "markdown",
   "metadata": {},
   "source": [
    "### Internal TVM with indexed series"
   ]
  },
  {
   "cell_type": "code",
   "execution_count": 10,
   "metadata": {},
   "outputs": [
    {
     "name": "stdout",
     "output_type": "stream",
     "text": [
      "NPV, 10%: -25.610856949893815\n",
      "NPV, 0% (aka, sum): 80.0\n",
      "Time to recovery: 10\n"
     ]
    }
   ],
   "source": [
    "firstPeriod = pd.Period(\"2017-12\", \"M\")\n",
    "npv = PeriodNPV(0.1, firstPeriod)\n",
    "print(\"NPV, 10%:\", npv.actualize(cfTotal))\n",
    "\n",
    "npv.ratePerPeriod = 0\n",
    "print(\"NPV, 0% (aka, sum):\", npv.actualize(cfTotal))\n",
    "\n",
    "print(\"Time to recovery:\", TTR_ACTUALIZER.actualize(cfTotal))"
   ]
  },
  {
   "cell_type": "code",
   "execution_count": null,
   "metadata": {},
   "outputs": [],
   "source": [
    "from pynetrees.strategy import Strategy, rpExpected, selectMaxRP\n",
    "from pynetrees.valueactualizer import PeriodNPV\n",
    "from pynetrees.cashflow import createDays as CF\n",
    "from pynetrees.jupyter import showTree"
   ]
  },
  {
   "cell_type": "code",
   "execution_count": 22,
   "metadata": {},
   "outputs": [
    {
     "data": {
      "image/svg+xml": [
       "<?xml version=\"1.0\" encoding=\"UTF-8\" standalone=\"no\"?>\n",
       "<!DOCTYPE svg PUBLIC \"-//W3C//DTD SVG 1.1//EN\"\n",
       " \"http://www.w3.org/Graphics/SVG/1.1/DTD/svg11.dtd\">\n",
       "<!-- Generated by graphviz version 2.38.0 (20140413.2041)\n",
       " -->\n",
       "<!-- Title: %3 Pages: 1 -->\n",
       "<svg width=\"770pt\" height=\"228pt\"\n",
       " viewBox=\"0.00 0.00 769.75 227.65\" xmlns=\"http://www.w3.org/2000/svg\" xmlns:xlink=\"http://www.w3.org/1999/xlink\">\n",
       "<g id=\"graph0\" class=\"graph\" transform=\"scale(1 1) rotate(0) translate(4 223.648)\">\n",
       "<title>%3</title>\n",
       "<polygon fill=\"white\" stroke=\"none\" points=\"-4,4 -4,-223.648 765.753,-223.648 765.753,4 -4,4\"/>\n",
       "<!-- d1 -->\n",
       "<g id=\"node1\" class=\"node\"><title>d1</title>\n",
       "<polygon fill=\"green\" stroke=\"black\" points=\"95,-177.064 0,-177.064 0,-124.064 95,-124.064 95,-177.064\"/>\n",
       "<text text-anchor=\"middle\" x=\"47.5\" y=\"-161.864\" font-family=\"Times,serif\" font-size=\"14.00\" fill=\"white\">Buy a loto</text>\n",
       "<text text-anchor=\"middle\" x=\"47.5\" y=\"-146.864\" font-family=\"Times,serif\" font-size=\"14.00\" fill=\"white\">R$ = 1.20</text>\n",
       "<text text-anchor=\"middle\" x=\"47.5\" y=\"-131.864\" font-family=\"Times,serif\" font-size=\"14.00\" fill=\"white\">(P= 100.00%)</text>\n",
       "</g>\n",
       "<!-- eg2 -->\n",
       "<g id=\"node2\" class=\"node\"><title>eg2</title>\n",
       "<polygon fill=\"lightgrey\" stroke=\"black\" points=\"357.381,-174.487 357.381,-198.642 325.042,-215.722 279.308,-215.722 246.969,-198.642 246.969,-174.487 279.308,-157.407 325.042,-157.407 357.381,-174.487\"/>\n",
       "<polygon fill=\"none\" stroke=\"black\" points=\"361.388,-172.069 361.388,-201.06 326.035,-219.733 278.316,-219.733 242.962,-201.06 242.962,-172.069 278.316,-153.396 326.035,-153.396 361.388,-172.069\"/>\n",
       "<text text-anchor=\"middle\" x=\"302.175\" y=\"-190.364\" font-family=\"Times,serif\" font-size=\"14.00\" fill=\"white\">Done</text>\n",
       "<text text-anchor=\"middle\" x=\"302.175\" y=\"-175.364\" font-family=\"Times,serif\" font-size=\"14.00\" fill=\"white\">R$ = 0.00</text>\n",
       "</g>\n",
       "<!-- d1&#45;&gt;eg2 -->\n",
       "<g id=\"edge1\" class=\"edge\"><title>d1&#45;&gt;eg2</title>\n",
       "<path fill=\"none\" stroke=\"lightgrey\" d=\"M95.139,-157.209C133.768,-162.713 189.199,-170.611 232.838,-176.828\"/>\n",
       "<polygon fill=\"lightgrey\" stroke=\"lightgrey\" points=\"232.413,-180.303 242.807,-178.248 233.401,-173.373 232.413,-180.303\"/>\n",
       "<text text-anchor=\"middle\" x=\"165\" y=\"-177.364\" font-family=\"Times,serif\" font-size=\"14.00\">No</text>\n",
       "</g>\n",
       "<!-- ev3 -->\n",
       "<g id=\"node3\" class=\"node\"><title>ev3</title>\n",
       "<ellipse fill=\"orange\" stroke=\"black\" cx=\"302.175\" cy=\"-97.5644\" rx=\"67.3507\" ry=\"37.4533\"/>\n",
       "<text text-anchor=\"middle\" x=\"302.175\" y=\"-108.864\" font-family=\"Times,serif\" font-size=\"14.00\" fill=\"white\">Win</text>\n",
       "<text text-anchor=\"middle\" x=\"302.175\" y=\"-93.8644\" font-family=\"Times,serif\" font-size=\"14.00\" fill=\"white\">R$ = 1.20</text>\n",
       "<text text-anchor=\"middle\" x=\"302.175\" y=\"-78.8644\" font-family=\"Times,serif\" font-size=\"14.00\" fill=\"white\">(P= 100.00%)</text>\n",
       "</g>\n",
       "<!-- d1&#45;&gt;ev3 -->\n",
       "<g id=\"edge4\" class=\"edge\"><title>d1&#45;&gt;ev3</title>\n",
       "<path fill=\"none\" stroke=\"black\" d=\"M95.3032,-131.038C101.197,-128.991 107.195,-127.101 113,-125.564 149.471,-115.911 190.859,-109.298 225.516,-104.934\"/>\n",
       "<polygon fill=\"black\" stroke=\"black\" points=\"226.068,-108.392 235.571,-103.706 225.22,-101.444 226.068,-108.392\"/>\n",
       "<text text-anchor=\"middle\" x=\"165\" y=\"-144.364\" font-family=\"Times,serif\" font-size=\"14.00\">Yes</text>\n",
       "<text text-anchor=\"middle\" x=\"165\" y=\"-129.364\" font-family=\"Times,serif\" font-size=\"14.00\">$= 2018&#45;03&#45;17:$&#45;1</text>\n",
       "</g>\n",
       "<!-- eg4 -->\n",
       "<g id=\"node4\" class=\"node\"><title>eg4</title>\n",
       "<polygon fill=\"blue\" stroke=\"black\" points=\"733.461,-134.738 733.461,-168.391 690.752,-192.188 630.352,-192.188 587.643,-168.391 587.643,-134.738 630.352,-110.941 690.752,-110.941 733.461,-134.738\"/>\n",
       "<polygon fill=\"none\" stroke=\"black\" points=\"737.472,-132.386 737.472,-170.743 691.795,-196.193 629.309,-196.193 583.632,-170.743 583.632,-132.386 629.309,-106.935 691.795,-106.935 737.472,-132.386\"/>\n",
       "<text text-anchor=\"middle\" x=\"660.552\" y=\"-162.864\" font-family=\"Times,serif\" font-size=\"14.00\" fill=\"white\">Done</text>\n",
       "<text text-anchor=\"middle\" x=\"660.552\" y=\"-147.864\" font-family=\"Times,serif\" font-size=\"14.00\" fill=\"white\">R$ = &#45;1.00</text>\n",
       "<text text-anchor=\"middle\" x=\"660.552\" y=\"-132.864\" font-family=\"Times,serif\" font-size=\"14.00\" fill=\"white\">(P= 100.00%)</text>\n",
       "</g>\n",
       "<!-- ev3&#45;&gt;eg4 -->\n",
       "<g id=\"edge2\" class=\"edge\"><title>ev3&#45;&gt;eg4</title>\n",
       "<path fill=\"none\" stroke=\"black\" d=\"M355.91,-120.204C366.18,-123.869 376.98,-127.224 387.35,-129.564 448.612,-143.39 519.354,-148.798 573.364,-150.798\"/>\n",
       "<polygon fill=\"black\" stroke=\"black\" points=\"573.479,-154.304 583.591,-151.144 573.715,-147.308 573.479,-154.304\"/>\n",
       "<text text-anchor=\"middle\" x=\"464.35\" y=\"-152.364\" font-family=\"Times,serif\" font-size=\"14.00\">No</text>\n",
       "</g>\n",
       "<!-- eg5 -->\n",
       "<g id=\"node5\" class=\"node\"><title>eg5</title>\n",
       "<polygon fill=\"blue\" stroke=\"black\" points=\"757.947,-27.7378 757.947,-61.3911 700.894,-85.1876 620.209,-85.1876 563.156,-61.3911 563.156,-27.7378 620.209,-3.94126 700.894,-3.94126 757.947,-27.7378\"/>\n",
       "<polygon fill=\"none\" stroke=\"black\" points=\"761.955,-25.0689 761.955,-64.06 701.697,-89.1934 619.407,-89.1934 559.148,-64.06 559.148,-25.0689 619.407,0.0645372 701.697,0.0645372 761.955,-25.0689\"/>\n",
       "<text text-anchor=\"middle\" x=\"660.552\" y=\"-55.8644\" font-family=\"Times,serif\" font-size=\"14.00\" fill=\"white\">Done</text>\n",
       "<text text-anchor=\"middle\" x=\"660.552\" y=\"-40.8644\" font-family=\"Times,serif\" font-size=\"14.00\" fill=\"white\">R$ = 21,975,905.92</text>\n",
       "<text text-anchor=\"middle\" x=\"660.552\" y=\"-25.8644\" font-family=\"Times,serif\" font-size=\"14.00\" fill=\"white\">(P= 0.00%)</text>\n",
       "</g>\n",
       "<!-- ev3&#45;&gt;eg5 -->\n",
       "<g id=\"edge3\" class=\"edge\"><title>ev3&#45;&gt;eg5</title>\n",
       "<path fill=\"none\" stroke=\"black\" d=\"M367.052,-87.6491C373.903,-86.6006 380.77,-85.556 387.35,-84.5644 440.596,-76.5407 499.732,-67.8269 549.246,-60.5867\"/>\n",
       "<polygon fill=\"black\" stroke=\"black\" points=\"549.948,-64.0213 559.337,-59.112 548.936,-57.0948 549.948,-64.0213\"/>\n",
       "<text text-anchor=\"middle\" x=\"464.35\" y=\"-118.364\" font-family=\"Times,serif\" font-size=\"14.00\">Yes</text>\n",
       "<text text-anchor=\"middle\" x=\"464.35\" y=\"-103.364\" font-family=\"Times,serif\" font-size=\"14.00\">$= 2018&#45;03&#45;21:$22,000,000</text>\n",
       "<text text-anchor=\"middle\" x=\"464.35\" y=\"-88.3644\" font-family=\"Times,serif\" font-size=\"14.00\">(P= 0.00%)</text>\n",
       "</g>\n",
       "</g>\n",
       "</svg>\n"
      ],
      "text/plain": [
       "<graphviz.files.Source at 0x7fc14ac789e8>"
      ]
     },
     "execution_count": 22,
     "metadata": {},
     "output_type": "execute_result"
    }
   ],
   "source": [
    "root = Decision(\"Buy a loto\", [\n",
    "    Transition(\"No\"),\n",
    "    Transition(\"Yes\", CF({\"2018-03-17\":-1}), target=Event(\"Win\", [\n",
    "        Transition(\"No\"),\n",
    "        Transition(\"Yes\", CF({\"2018-03-21\":22_000_000}), 1 / 10_000_000)]))])\n",
    "\n",
    "\n",
    "solver = Solver(root, Strategy(rpExpected, selectMaxRP), PeriodNPV(0.1 / 365, pd.Period(\"2018-03-17\", \"D\")))\n",
    "solver.solve()\n",
    "\n",
    "showTree(root, cashflowFormat=\"${:,.0f}\")\n",
    "\n"
   ]
  },
  {
   "cell_type": "code",
   "execution_count": 33,
   "metadata": {},
   "outputs": [
    {
     "data": {
      "text/plain": [
       "'/tmp/down/asdf.svg.svg'"
      ]
     },
     "execution_count": 33,
     "metadata": {},
     "output_type": "execute_result"
    }
   ],
   "source": [
    "from pynetrees.render import GraphvizEngine\n",
    "eng = GraphvizEngine(root, \"${:,.0f}\", \"${:,.0f}\", \"{:,.5%}\")\n",
    "graph = eng.render(\"svg\")\n",
    "graph.view(\"/tmp/down/asdf.svg\")"
   ]
  },
  {
   "cell_type": "code",
   "execution_count": null,
   "metadata": {},
   "outputs": [],
   "source": [
    "CF(-100) # A scalar; no time information.\n",
    "CF({1:10, 3:10, 10:100}) # An indexed series\n",
    "CF({\"2018-01\":10, \"2018-03\":10, \"2018-10\":100}) # A period Series (by month)"
   ]
  }
 ],
 "metadata": {
  "kernelspec": {
   "display_name": "Python 3",
   "language": "python",
   "name": "python3"
  },
  "language_info": {
   "codemirror_mode": {
    "name": "ipython",
    "version": 3
   },
   "file_extension": ".py",
   "mimetype": "text/x-python",
   "name": "python",
   "nbconvert_exporter": "python",
   "pygments_lexer": "ipython3",
   "version": "3.6.4"
  }
 },
 "nbformat": 4,
 "nbformat_minor": 2
}
