{
 "cells": [
  {
   "cell_type": "markdown",
   "metadata": {},
   "source": [
    "# Notebook Setup"
   ]
  },
  {
   "cell_type": "markdown",
   "metadata": {},
   "source": [
    "## Usual libraries"
   ]
  },
  {
   "cell_type": "code",
   "execution_count": 1,
   "metadata": {},
   "outputs": [],
   "source": [
    "from math import *\n",
    "from datetime import datetime\n",
    "from functools import partial\n",
    "\n",
    "import pandas as pd\n",
    "import numpy as np\n",
    "import scipy as sp"
   ]
  },
  {
   "cell_type": "markdown",
   "metadata": {},
   "source": [
    "## Graph"
   ]
  },
  {
   "cell_type": "code",
   "execution_count": 2,
   "metadata": {},
   "outputs": [],
   "source": [
    "import matplotlib.pyplot as plt\n",
    "import seaborn as sb\n",
    "\n",
    "from matplotlib.ticker import FuncFormatter"
   ]
  },
  {
   "cell_type": "markdown",
   "metadata": {},
   "source": [
    "## DataFrame Display Helpers"
   ]
  },
  {
   "cell_type": "code",
   "execution_count": 3,
   "metadata": {},
   "outputs": [],
   "source": [
    "def display(dataframe, maxrows=999, fmt=None):\n",
    "    from IPython.display import display\n",
    "    \n",
    "    previousMaxRow = pd.options.display.max_rows\n",
    "    previousFloatFormat = pd.options.display.float_format    \n",
    "    \n",
    "    pd.options.display.max_rows = maxrows\n",
    "    if fmt: \n",
    "        pd.options.display.float_format = fmt\n",
    "        \n",
    "    display(dataframe)\n",
    "    \n",
    "    pd.options.display.max_rows = previousMaxRow\n",
    "    pd.options.display.float_format = previousFloatFormat\n",
    "    \n",
    "\n",
    "def colorNegativeRed(val):\n",
    "    if val < 0 :\n",
    "        return 'color: red'\n",
    "    else:\n",
    "        return 'color: black'\n",
    "    \n",
    "def formatCash(v, *args, decimals=True, zeroBar=True):\n",
    "    if np.isnan(v):\n",
    "        return \"nan\"\n",
    "    elif zeroBar and v == 0:\n",
    "        return \"-\"\n",
    "    else:\n",
    "        if decimals:\n",
    "            fmt = \"{}${:,.2f}\"\n",
    "        else:\n",
    "            fmt = \"{}${:,.0f}\"                \n",
    "        \n",
    "        return fmt.format(v<0 and \"-\" or \"\", abs(v))\n",
    "    \n",
    "formatInt = \"{:,.0f}\".format\n",
    "formatPct = \"{:.1%}\".format\n",
    "\n",
    "CASH_FORMATTER = FuncFormatter(partial(formatCash, decimals=False, zeroBar=False))\n",
    "PCT_FORMATTER_DEC_1 = FuncFormatter(formatPct)\n",
    "PCT_FORMATTER_DEC_NONE = FuncFormatter(\"{:.0%}\".format)"
   ]
  },
  {
   "cell_type": "markdown",
   "metadata": {},
   "source": [
    "# Pynetrees Stuff"
   ]
  },
  {
   "cell_type": "code",
   "execution_count": 4,
   "metadata": {},
   "outputs": [],
   "source": [
    "from pynetrees import *\n",
    "import pynetrees.cashflow\n",
    "from pynetrees.valueactualizer import *"
   ]
  },
  {
   "cell_type": "markdown",
   "metadata": {},
   "source": [
    "# Cashflows"
   ]
  },
  {
   "cell_type": "markdown",
   "metadata": {},
   "source": [
    "## Indexed Series"
   ]
  },
  {
   "cell_type": "code",
   "execution_count": 5,
   "metadata": {},
   "outputs": [
    {
     "name": "stdout",
     "output_type": "stream",
     "text": [
      "cf0:\n"
     ]
    },
    {
     "data": {
      "text/plain": [
       "0   -100\n",
       "dtype: int64"
      ]
     },
     "metadata": {},
     "output_type": "display_data"
    },
    {
     "name": "stdout",
     "output_type": "stream",
     "text": [
      "cf1:\n"
     ]
    },
    {
     "data": {
      "text/plain": [
       "1      10\n",
       "3      10\n",
       "10    100\n",
       "dtype: int64"
      ]
     },
     "metadata": {},
     "output_type": "display_data"
    },
    {
     "name": "stdout",
     "output_type": "stream",
     "text": [
      "cf2:\n"
     ]
    },
    {
     "data": {
      "text/plain": [
       "7     5\n",
       "8     5\n",
       "9     5\n",
       "10    5\n",
       "11    5\n",
       "12    5\n",
       "13    5\n",
       "14    5\n",
       "15    5\n",
       "16    5\n",
       "17    5\n",
       "18    5\n",
       "dtype: int64"
      ]
     },
     "metadata": {},
     "output_type": "display_data"
    }
   ],
   "source": [
    "CF = pynetrees.cashflow.create # helper\n",
    "AN = pynetrees.cashflow.indexAnnuity\n",
    "\n",
    "cf0 = CF(-100) # a scalar is taken at index 0\n",
    "cf1 = CF({1:10, 3:10, 10:100}) # an explicit index is used\n",
    "cf2 = AN(7, 12, 5) # annuity\n",
    "\n",
    "print(\"cf0:\")\n",
    "display(cf0)\n",
    "print(\"cf1:\")\n",
    "display(cf1)\n",
    "print(\"cf2:\")\n",
    "display(cf2)"
   ]
  },
  {
   "cell_type": "markdown",
   "metadata": {},
   "source": [
    "### Internal composition with indexed series"
   ]
  },
  {
   "cell_type": "code",
   "execution_count": 6,
   "metadata": {},
   "outputs": [
    {
     "data": {
      "text/plain": [
       "0    -100.0\n",
       "1      10.0\n",
       "3      10.0\n",
       "7       5.0\n",
       "8       5.0\n",
       "9       5.0\n",
       "10    105.0\n",
       "11      5.0\n",
       "12      5.0\n",
       "13      5.0\n",
       "14      5.0\n",
       "15      5.0\n",
       "16      5.0\n",
       "17      5.0\n",
       "18      5.0\n",
       "dtype: float64"
      ]
     },
     "metadata": {},
     "output_type": "display_data"
    }
   ],
   "source": [
    "cfTotal = pynetrees.cashflow.combineCashflows((cf0,cf1,cf2))\n",
    "display(cfTotal)"
   ]
  },
  {
   "cell_type": "markdown",
   "metadata": {},
   "source": [
    "### Internal TVM with indexed series"
   ]
  },
  {
   "cell_type": "code",
   "execution_count": 7,
   "metadata": {},
   "outputs": [
    {
     "name": "stdout",
     "output_type": "stream",
     "text": [
      "NPV, 10%: -25.610856949893815\n",
      "NPV, 0% (aka, sum): 80.0\n",
      "Time to recovery: 10\n"
     ]
    }
   ],
   "source": [
    "npv = IndexedNPV(0.1)\n",
    "print(\"NPV, 10%:\", npv.actualize(cfTotal))\n",
    "\n",
    "npv.ratePerPeriod = 0\n",
    "print(\"NPV, 0% (aka, sum):\", npv.actualize(cfTotal))\n",
    "\n",
    "print(\"Time to recovery:\", TTR_ACTUALIZER.actualize(cfTotal))"
   ]
  },
  {
   "cell_type": "markdown",
   "metadata": {},
   "source": [
    "## Period Series"
   ]
  },
  {
   "cell_type": "code",
   "execution_count": 8,
   "metadata": {},
   "outputs": [
    {
     "name": "stdout",
     "output_type": "stream",
     "text": [
      "cf0:\n",
      "2017-12   -100\n",
      "Freq: M, dtype: int64\n",
      "cf1:\n"
     ]
    },
    {
     "data": {
      "text/plain": [
       "2018-01     10\n",
       "2018-03     10\n",
       "2018-10    100\n",
       "Freq: M, dtype: int64"
      ]
     },
     "metadata": {},
     "output_type": "display_data"
    },
    {
     "name": "stdout",
     "output_type": "stream",
     "text": [
      "cf2:\n"
     ]
    },
    {
     "data": {
      "text/plain": [
       "2018-07    5\n",
       "2018-08    5\n",
       "2018-09    5\n",
       "2018-10    5\n",
       "2018-11    5\n",
       "2018-12    5\n",
       "2019-01    5\n",
       "2019-02    5\n",
       "2019-03    5\n",
       "2019-04    5\n",
       "2019-05    5\n",
       "2019-06    5\n",
       "Freq: M, dtype: int64"
      ]
     },
     "metadata": {},
     "output_type": "display_data"
    }
   ],
   "source": [
    "CF = pynetrees.cashflow.createMonths # helper\n",
    "AN = pynetrees.cashflow.annuityMonths\n",
    "\n",
    "cf0 = CF({\"2017-12\":-100})\n",
    "cf1 = CF({\"2018-01\":10, \"2018-03\":10, \"2018-10\":100}) # an explicit index is used\n",
    "\n",
    "cf2 = pd.Series(5, pd.period_range(\"2018-07\", periods=12, freq=\"M\")) # a pandas series can be used directly. Here, an annuity...\n",
    "\n",
    "def annuity(base, count, ammount):\n",
    "    return pd.Series(ammount, pd.period_range(base, periods=count, freq=\"M\"))\n",
    "\n",
    "cf2 = annuity(\"2018-07\", 12, 5)\n",
    "\n",
    "print(\"cf0:\")\n",
    "print(cf0)\n",
    "print(\"cf1:\")\n",
    "display(cf1)\n",
    "print(\"cf2:\")\n",
    "display(cf2)"
   ]
  },
  {
   "cell_type": "markdown",
   "metadata": {},
   "source": [
    "### Internal composition with indexed series"
   ]
  },
  {
   "cell_type": "code",
   "execution_count": 9,
   "metadata": {},
   "outputs": [
    {
     "data": {
      "text/plain": [
       "2017-12   -100.0\n",
       "2018-01     10.0\n",
       "2018-03     10.0\n",
       "2018-07      5.0\n",
       "2018-08      5.0\n",
       "2018-09      5.0\n",
       "2018-10    105.0\n",
       "2018-11      5.0\n",
       "2018-12      5.0\n",
       "2019-01      5.0\n",
       "2019-02      5.0\n",
       "2019-03      5.0\n",
       "2019-04      5.0\n",
       "2019-05      5.0\n",
       "2019-06      5.0\n",
       "Freq: M, dtype: float64"
      ]
     },
     "metadata": {},
     "output_type": "display_data"
    }
   ],
   "source": [
    "cfTotal = pynetrees.cashflow.combineCashflows((cf0,cf1,cf2))\n",
    "display(cfTotal)"
   ]
  },
  {
   "cell_type": "markdown",
   "metadata": {},
   "source": [
    "### Internal TVM with indexed series"
   ]
  },
  {
   "cell_type": "code",
   "execution_count": 10,
   "metadata": {},
   "outputs": [
    {
     "name": "stdout",
     "output_type": "stream",
     "text": [
      "NPV, 10%: -25.610856949893815\n",
      "NPV, 0% (aka, sum): 80.0\n",
      "Time to recovery: 10\n"
     ]
    }
   ],
   "source": [
    "firstPeriod = pd.Period(\"2017-12\", \"M\")\n",
    "npv = PeriodNPV(0.1, firstPeriod)\n",
    "print(\"NPV, 10%:\", npv.actualize(cfTotal))\n",
    "\n",
    "npv.ratePerPeriod = 0\n",
    "print(\"NPV, 0% (aka, sum):\", npv.actualize(cfTotal))\n",
    "\n",
    "print(\"Time to recovery:\", TTR_ACTUALIZER.actualize(cfTotal))"
   ]
  },
  {
   "cell_type": "code",
   "execution_count": 11,
   "metadata": {},
   "outputs": [],
   "source": [
    "from pynetrees.strategy import Strategy, rpExpected, selectMaxRP\n",
    "from pynetrees.valueactualizer import PeriodNPV\n",
    "from pynetrees.cashflow import createDays as CF\n",
    "from pynetrees.jupyter import showTree"
   ]
  },
  {
   "cell_type": "code",
   "execution_count": 12,
   "metadata": {},
   "outputs": [
    {
     "data": {
      "image/svg+xml": [
       "<?xml version=\"1.0\" encoding=\"UTF-8\" standalone=\"no\"?>\n",
       "<!DOCTYPE svg PUBLIC \"-//W3C//DTD SVG 1.1//EN\"\n",
       " \"http://www.w3.org/Graphics/SVG/1.1/DTD/svg11.dtd\">\n",
       "<!-- Generated by graphviz version 2.40.1 (20161225.0304)\n",
       " -->\n",
       "<!-- Title: %3 Pages: 1 -->\n",
       "<svg width=\"770pt\" height=\"228pt\"\n",
       " viewBox=\"0.00 0.00 769.75 227.65\" xmlns=\"http://www.w3.org/2000/svg\" xmlns:xlink=\"http://www.w3.org/1999/xlink\">\n",
       "<g id=\"graph0\" class=\"graph\" transform=\"scale(1 1) rotate(0) translate(4 223.6484)\">\n",
       "<title>%3</title>\n",
       "<polygon fill=\"#ffffff\" stroke=\"transparent\" points=\"-4,4 -4,-223.6484 765.7535,-223.6484 765.7535,4 -4,4\"/>\n",
       "<!-- d1 -->\n",
       "<g id=\"node1\" class=\"node\">\n",
       "<title>d1</title>\n",
       "<polygon fill=\"#00ff00\" stroke=\"#000000\" points=\"95,-168.0644 0,-168.0644 0,-115.0644 95,-115.0644 95,-168.0644\"/>\n",
       "<text text-anchor=\"middle\" x=\"47.5\" y=\"-152.8644\" font-family=\"Times,serif\" font-size=\"14.00\" fill=\"#ffffff\">Buy a loto</text>\n",
       "<text text-anchor=\"middle\" x=\"47.5\" y=\"-137.8644\" font-family=\"Times,serif\" font-size=\"14.00\" fill=\"#ffffff\">R$ = 1.20</text>\n",
       "<text text-anchor=\"middle\" x=\"47.5\" y=\"-122.8644\" font-family=\"Times,serif\" font-size=\"14.00\" fill=\"#ffffff\">(P= 100.00%)</text>\n",
       "</g>\n",
       "<!-- eg2 -->\n",
       "<g id=\"node2\" class=\"node\">\n",
       "<title>eg2</title>\n",
       "<polygon fill=\"#d3d3d3\" stroke=\"#000000\" points=\"357.381,-174.4868 357.381,-198.642 325.0421,-215.7224 279.3082,-215.7224 246.9693,-198.642 246.9693,-174.4868 279.3082,-157.4065 325.0421,-157.4065 357.381,-174.4868\"/>\n",
       "<polygon fill=\"none\" stroke=\"#000000\" points=\"361.3882,-172.0689 361.3882,-201.06 326.0347,-219.7325 278.3156,-219.7325 242.9621,-201.06 242.9621,-172.0689 278.3156,-153.3963 326.0347,-153.3963 361.3882,-172.0689\"/>\n",
       "<text text-anchor=\"middle\" x=\"302.1751\" y=\"-190.3644\" font-family=\"Times,serif\" font-size=\"14.00\" fill=\"#ffffff\">Done</text>\n",
       "<text text-anchor=\"middle\" x=\"302.1751\" y=\"-175.3644\" font-family=\"Times,serif\" font-size=\"14.00\" fill=\"#ffffff\">R$ = 0.00</text>\n",
       "</g>\n",
       "<!-- d1&#45;&gt;eg2 -->\n",
       "<g id=\"edge1\" class=\"edge\">\n",
       "<title>d1&#45;&gt;eg2</title>\n",
       "<path fill=\"none\" stroke=\"#d3d3d3\" d=\"M95.1161,-158.8033C101.0865,-160.595 107.15,-162.2408 113,-163.5644 152.062,-172.4026 196.4806,-178.025 232.4562,-181.4967\"/>\n",
       "<polygon fill=\"#d3d3d3\" stroke=\"#d3d3d3\" points=\"232.5687,-185.0222 242.8498,-182.463 233.2168,-178.0523 232.5687,-185.0222\"/>\n",
       "<text text-anchor=\"middle\" x=\"165\" y=\"-183.3644\" font-family=\"Times,serif\" font-size=\"14.00\" fill=\"#000000\">No</text>\n",
       "</g>\n",
       "<!-- ev3 -->\n",
       "<g id=\"node3\" class=\"node\">\n",
       "<title>ev3</title>\n",
       "<ellipse fill=\"#ffa500\" stroke=\"#000000\" cx=\"302.1751\" cy=\"-97.5644\" rx=\"67.3507\" ry=\"37.4533\"/>\n",
       "<text text-anchor=\"middle\" x=\"302.1751\" y=\"-108.8644\" font-family=\"Times,serif\" font-size=\"14.00\" fill=\"#ffffff\">Win</text>\n",
       "<text text-anchor=\"middle\" x=\"302.1751\" y=\"-93.8644\" font-family=\"Times,serif\" font-size=\"14.00\" fill=\"#ffffff\">R$ = 1.20</text>\n",
       "<text text-anchor=\"middle\" x=\"302.1751\" y=\"-78.8644\" font-family=\"Times,serif\" font-size=\"14.00\" fill=\"#ffffff\">(P= 100.00%)</text>\n",
       "</g>\n",
       "<!-- d1&#45;&gt;ev3 -->\n",
       "<g id=\"edge4\" class=\"edge\">\n",
       "<title>d1&#45;&gt;ev3</title>\n",
       "<path fill=\"none\" stroke=\"#000000\" d=\"M95.1037,-133.34C132.4232,-126.8923 185.0318,-117.8032 227.8822,-110.4\"/>\n",
       "<polygon fill=\"#000000\" stroke=\"#000000\" points=\"228.7288,-113.8056 237.9869,-108.6542 227.537,-106.9078 228.7288,-113.8056\"/>\n",
       "<text text-anchor=\"middle\" x=\"165\" y=\"-148.3644\" font-family=\"Times,serif\" font-size=\"14.00\" fill=\"#000000\">Yes</text>\n",
       "<text text-anchor=\"middle\" x=\"165\" y=\"-133.3644\" font-family=\"Times,serif\" font-size=\"14.00\" fill=\"#000000\">$= 2018&#45;03&#45;17:$&#45;1</text>\n",
       "</g>\n",
       "<!-- eg4 -->\n",
       "<g id=\"node4\" class=\"node\">\n",
       "<title>eg4</title>\n",
       "<polygon fill=\"#0000ff\" stroke=\"#000000\" points=\"733.4612,-134.7378 733.4612,-168.3911 690.7519,-192.1876 630.3519,-192.1876 587.6426,-168.3911 587.6426,-134.7378 630.3519,-110.9413 690.7519,-110.9413 733.4612,-134.7378\"/>\n",
       "<polygon fill=\"none\" stroke=\"#000000\" points=\"737.4722,-132.3856 737.4722,-170.7433 691.7951,-196.1934 629.3087,-196.1934 583.6316,-170.7433 583.6316,-132.3856 629.3087,-106.9355 691.7951,-106.9355 737.4722,-132.3856\"/>\n",
       "<text text-anchor=\"middle\" x=\"660.5519\" y=\"-162.8644\" font-family=\"Times,serif\" font-size=\"14.00\" fill=\"#ffffff\">Done</text>\n",
       "<text text-anchor=\"middle\" x=\"660.5519\" y=\"-147.8644\" font-family=\"Times,serif\" font-size=\"14.00\" fill=\"#ffffff\">R$ = &#45;1.00</text>\n",
       "<text text-anchor=\"middle\" x=\"660.5519\" y=\"-132.8644\" font-family=\"Times,serif\" font-size=\"14.00\" fill=\"#ffffff\">(P= 100.00%)</text>\n",
       "</g>\n",
       "<!-- ev3&#45;&gt;eg4 -->\n",
       "<g id=\"edge2\" class=\"edge\">\n",
       "<title>ev3&#45;&gt;eg4</title>\n",
       "<path fill=\"none\" stroke=\"#000000\" d=\"M356.0119,-120.3616C366.2648,-123.9642 377.0214,-127.2561 387.3503,-129.5644 448.6464,-143.2629 519.3625,-148.6841 573.4897,-150.7218\"/>\n",
       "<polygon fill=\"#000000\" stroke=\"#000000\" points=\"573.6268,-154.2285 583.7414,-151.075 573.8678,-147.2327 573.6268,-154.2285\"/>\n",
       "<text text-anchor=\"middle\" x=\"464.3503\" y=\"-152.3644\" font-family=\"Times,serif\" font-size=\"14.00\" fill=\"#000000\">No</text>\n",
       "</g>\n",
       "<!-- eg5 -->\n",
       "<g id=\"node5\" class=\"node\">\n",
       "<title>eg5</title>\n",
       "<polygon fill=\"#0000ff\" stroke=\"#000000\" points=\"757.9475,-27.7378 757.9475,-61.3911 700.8945,-85.1876 620.2093,-85.1876 563.1563,-61.3911 563.1563,-27.7378 620.2093,-3.9413 700.8945,-3.9413 757.9475,-27.7378\"/>\n",
       "<polygon fill=\"none\" stroke=\"#000000\" points=\"761.9555,-25.0689 761.9555,-64.06 701.6972,-89.1934 619.4065,-89.1934 559.1483,-64.06 559.1483,-25.0689 619.4065,.0645 701.6972,.0645 761.9555,-25.0689\"/>\n",
       "<text text-anchor=\"middle\" x=\"660.5519\" y=\"-55.8644\" font-family=\"Times,serif\" font-size=\"14.00\" fill=\"#ffffff\">Done</text>\n",
       "<text text-anchor=\"middle\" x=\"660.5519\" y=\"-40.8644\" font-family=\"Times,serif\" font-size=\"14.00\" fill=\"#ffffff\">R$ = 21,975,905.92</text>\n",
       "<text text-anchor=\"middle\" x=\"660.5519\" y=\"-25.8644\" font-family=\"Times,serif\" font-size=\"14.00\" fill=\"#ffffff\">(P= 0.00%)</text>\n",
       "</g>\n",
       "<!-- ev3&#45;&gt;eg5 -->\n",
       "<g id=\"edge3\" class=\"edge\">\n",
       "<title>ev3&#45;&gt;eg5</title>\n",
       "<path fill=\"none\" stroke=\"#000000\" d=\"M367.2744,-87.5869C374.0529,-86.5605 380.8409,-85.5377 387.3503,-84.5644 440.5749,-76.6064 499.6583,-67.9356 549.2261,-60.7075\"/>\n",
       "<polygon fill=\"#000000\" stroke=\"#000000\" points=\"549.9396,-64.1406 559.3302,-59.2349 548.93,-57.2138 549.9396,-64.1406\"/>\n",
       "<text text-anchor=\"middle\" x=\"464.3503\" y=\"-118.3644\" font-family=\"Times,serif\" font-size=\"14.00\" fill=\"#000000\">Yes</text>\n",
       "<text text-anchor=\"middle\" x=\"464.3503\" y=\"-103.3644\" font-family=\"Times,serif\" font-size=\"14.00\" fill=\"#000000\">$= 2018&#45;03&#45;21:$22,000,000</text>\n",
       "<text text-anchor=\"middle\" x=\"464.3503\" y=\"-88.3644\" font-family=\"Times,serif\" font-size=\"14.00\" fill=\"#000000\">(P= 0.00%)</text>\n",
       "</g>\n",
       "</g>\n",
       "</svg>\n"
      ],
      "text/plain": [
       "<graphviz.files.Source at 0x7f8785c5f320>"
      ]
     },
     "execution_count": 12,
     "metadata": {},
     "output_type": "execute_result"
    }
   ],
   "source": [
    "root = Decision(\"Buy a loto\", [\n",
    "    Transition(\"No\"),\n",
    "    Transition(\"Yes\", CF({\"2018-03-17\":-1}), target=Event(\"Win\", [\n",
    "        Transition(\"No\"),\n",
    "        Transition(\"Yes\", CF({\"2018-03-21\":22_000_000}), 1 / 10_000_000)]))])\n",
    "\n",
    "\n",
    "solver = Solver(root, Strategy(rpExpected, selectMaxRP), PeriodNPV(0.1 / 365, pd.Period(\"2018-03-17\", \"D\")))\n",
    "solver.solve()\n",
    "\n",
    "showTree(root, cashflowFormat=\"${:,.0f}\")\n",
    "\n"
   ]
  },
  {
   "cell_type": "code",
   "execution_count": 13,
   "metadata": {},
   "outputs": [
    {
     "data": {
      "text/plain": [
       "'/tmp/down/asdf.svg.svg'"
      ]
     },
     "execution_count": 13,
     "metadata": {},
     "output_type": "execute_result"
    }
   ],
   "source": [
    "from pynetrees.render import GraphvizEngine\n",
    "eng = GraphvizEngine(root, \"${:,.0f}\", \"${:,.0f}\", \"{:,.5%}\")\n",
    "graph = eng.render(\"svg\")\n",
    "graph.view(\"/tmp/down/asdf.svg\")"
   ]
  },
  {
   "cell_type": "code",
   "execution_count": 14,
   "metadata": {},
   "outputs": [
    {
     "data": {
      "text/plain": [
       "2018-01-01     10\n",
       "2018-03-01     10\n",
       "2018-10-01    100\n",
       "Freq: D, dtype: int64"
      ]
     },
     "execution_count": 14,
     "metadata": {},
     "output_type": "execute_result"
    }
   ],
   "source": [
    "CF(-100) # A scalar; no time information.\n",
    "CF({1:10, 3:10, 10:100}) # An indexed series\n",
    "CF({\"2018-01\":10, \"2018-03\":10, \"2018-10\":100}) # A period Series (by month)"
   ]
  }
 ],
 "metadata": {
  "kernelspec": {
   "display_name": "Python 3",
   "language": "python",
   "name": "python3"
  },
  "language_info": {
   "codemirror_mode": {
    "name": "ipython",
    "version": 3
   },
   "file_extension": ".py",
   "mimetype": "text/x-python",
   "name": "python",
   "nbconvert_exporter": "python",
   "pygments_lexer": "ipython3",
   "version": "3.6.7"
  }
 },
 "nbformat": 4,
 "nbformat_minor": 2
}
