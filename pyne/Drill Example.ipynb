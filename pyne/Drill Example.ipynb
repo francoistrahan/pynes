{
 "cells": [
  {
   "cell_type": "markdown",
   "metadata": {},
   "source": [
    "# Notebook Setup"
   ]
  },
  {
   "cell_type": "markdown",
   "metadata": {},
   "source": [
    "## Usual libraries"
   ]
  },
  {
   "cell_type": "code",
   "execution_count": null,
   "metadata": {},
   "outputs": [],
   "source": [
    "from math import *\n",
    "from datetime import datetime\n",
    "\n",
    "import pandas as pd\n",
    "import numpy as np\n",
    "import scipy as sp"
   ]
  },
  {
   "cell_type": "markdown",
   "metadata": {},
   "source": [
    "## Graph"
   ]
  },
  {
   "cell_type": "code",
   "execution_count": null,
   "metadata": {},
   "outputs": [],
   "source": [
    "import matplotlib.pyplot as plt\n",
    "import seaborn as sb\n",
    "\n",
    "from matplotlib.ticker import FuncFormatter"
   ]
  },
  {
   "cell_type": "markdown",
   "metadata": {},
   "source": [
    "## DataFrame Display Helpers"
   ]
  },
  {
   "cell_type": "code",
   "execution_count": null,
   "metadata": {},
   "outputs": [],
   "source": [
    "def display(dataframe, maxrows=999, fmt=None):\n",
    "    from IPython.display import display\n",
    "    \n",
    "    previousMaxRow = pd.options.display.max_rows\n",
    "    previousFloatFormat = pd.options.display.float_format    \n",
    "    \n",
    "    pd.options.display.max_rows = maxrows\n",
    "    if fmt: \n",
    "        pd.options.display.float_format = fmt\n",
    "        \n",
    "    display(dataframe)\n",
    "    \n",
    "    pd.options.display.max_rows = previousMaxRow\n",
    "    pd.options.display.float_format = previousFloatFormat\n",
    "    \n",
    "\n",
    "def colorNegativeRed(val):\n",
    "    if val < 0 :\n",
    "        return 'color: red'\n",
    "    else:\n",
    "        return 'color: black'\n",
    "    \n",
    "def formatCash(v, *args, decimals=True, zeroBar=True):\n",
    "    if np.isnan(v):\n",
    "        return \"nan\"\n",
    "    elif zeroBar and v == 0:\n",
    "        return \"-\"\n",
    "    else:\n",
    "        if decimals:\n",
    "            fmt = \"{}${:,.2f}\"\n",
    "        else:\n",
    "            fmt = \"{}${:,.0f}\"                \n",
    "        \n",
    "        return fmt.format(v<0 and \"-\" or \"\", abs(v))\n",
    "    \n",
    "formatInt = \"{:,.0f}\".format\n",
    "formatPct = \"{:.1%}\".format\n",
    "\n",
    "CASH_FORMATTER = FuncFormatter(partial(formatCash, decimals=False, zeroBar=False))\n",
    "PCT_FORMATTER_DEC_1 = FuncFormatter(formatPct)\n",
    "PCT_FORMATTER_DEC_NONE = FuncFormatter(\"{:.0%}\".format)"
   ]
  },
  {
   "cell_type": "markdown",
   "metadata": {},
   "source": [
    "# Constants and configuration"
   ]
  },
  {
   "cell_type": "code",
   "execution_count": null,
   "metadata": {},
   "outputs": [],
   "source": [
    "CONFIDENCE_LEVEL = 0.95"
   ]
  },
  {
   "cell_type": "markdown",
   "metadata": {},
   "source": [
    "# Input Data"
   ]
  },
  {
   "cell_type": "code",
   "execution_count": null,
   "metadata": {},
   "outputs": [],
   "source": []
  }
 ],
 "metadata": {
  "kernelspec": {
   "display_name": "Python 3",
   "language": "python",
   "name": "python3"
  },
  "language_info": {
   "codemirror_mode": {
    "name": "ipython",
    "version": 3
   },
   "file_extension": ".py",
   "mimetype": "text/x-python",
   "name": "python",
   "nbconvert_exporter": "python",
   "pygments_lexer": "ipython3",
   "version": "3.6.4"
  }
 },
 "nbformat": 4,
 "nbformat_minor": 2
}
