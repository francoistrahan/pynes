{
 "cells": [
  {
   "cell_type": "markdown",
   "metadata": {},
   "source": [
    "# Notebook Setup"
   ]
  },
  {
   "cell_type": "markdown",
   "metadata": {},
   "source": [
    "## Usual libraries"
   ]
  },
  {
   "cell_type": "code",
   "execution_count": 1,
   "metadata": {},
   "outputs": [],
   "source": [
    "from math import *\n",
    "from datetime import datetime\n",
    "from functools import partial\n",
    "\n",
    "import pandas as pd\n",
    "import numpy as np\n",
    "import scipy as sp"
   ]
  },
  {
   "cell_type": "markdown",
   "metadata": {},
   "source": [
    "## Graph"
   ]
  },
  {
   "cell_type": "code",
   "execution_count": 2,
   "metadata": {},
   "outputs": [],
   "source": [
    "import matplotlib.pyplot as plt\n",
    "import seaborn as sb\n",
    "\n",
    "from matplotlib.ticker import FuncFormatter"
   ]
  },
  {
   "cell_type": "markdown",
   "metadata": {},
   "source": [
    "## DataFrame Display Helpers"
   ]
  },
  {
   "cell_type": "code",
   "execution_count": 3,
   "metadata": {},
   "outputs": [],
   "source": [
    "def display(dataframe, maxrows=999, fmt=None):\n",
    "    from IPython.display import display\n",
    "    \n",
    "    previousMaxRow = pd.options.display.max_rows\n",
    "    previousFloatFormat = pd.options.display.float_format    \n",
    "    \n",
    "    pd.options.display.max_rows = maxrows\n",
    "    if fmt: \n",
    "        pd.options.display.float_format = fmt\n",
    "        \n",
    "    display(dataframe)\n",
    "    \n",
    "    pd.options.display.max_rows = previousMaxRow\n",
    "    pd.options.display.float_format = previousFloatFormat\n",
    "    \n",
    "\n",
    "def colorNegativeRed(val):\n",
    "    if val < 0 :\n",
    "        return 'color: red'\n",
    "    else:\n",
    "        return 'color: black'\n",
    "    \n",
    "def formatCash(v, *args, decimals=True, zeroBar=True):\n",
    "    if np.isnan(v):\n",
    "        return \"nan\"\n",
    "    elif zeroBar and v == 0:\n",
    "        return \"-\"\n",
    "    else:\n",
    "        if decimals:\n",
    "            fmt = \"{}${:,.2f}\"\n",
    "        else:\n",
    "            fmt = \"{}${:,.0f}\"                \n",
    "        \n",
    "        return fmt.format(v<0 and \"-\" or \"\", abs(v))\n",
    "    \n",
    "formatInt = \"{:,.0f}\".format\n",
    "formatPct = \"{:.1%}\".format\n",
    "\n",
    "CASH_FORMATTER = FuncFormatter(partial(formatCash, decimals=False, zeroBar=False))\n",
    "PCT_FORMATTER_DEC_1 = FuncFormatter(formatPct)\n",
    "PCT_FORMATTER_DEC_NONE = FuncFormatter(\"{:.0%}\".format)"
   ]
  },
  {
   "cell_type": "markdown",
   "metadata": {},
   "source": [
    "# Pyne Stuff"
   ]
  },
  {
   "cell_type": "code",
   "execution_count": 4,
   "metadata": {},
   "outputs": [],
   "source": [
    "from pyne import *\n",
    "import pyne.cashflow\n",
    "from pyne.valueactualizer import *"
   ]
  },
  {
   "cell_type": "markdown",
   "metadata": {},
   "source": [
    "# Cashflows"
   ]
  },
  {
   "cell_type": "markdown",
   "metadata": {},
   "source": [
    "## Indexed Series"
   ]
  },
  {
   "cell_type": "code",
   "execution_count": 5,
   "metadata": {},
   "outputs": [
    {
     "name": "stdout",
     "output_type": "stream",
     "text": [
      "cf0:\n"
     ]
    },
    {
     "data": {
      "text/plain": [
       "0   -100\n",
       "dtype: int64"
      ]
     },
     "metadata": {},
     "output_type": "display_data"
    },
    {
     "name": "stdout",
     "output_type": "stream",
     "text": [
      "cf1:\n"
     ]
    },
    {
     "data": {
      "text/plain": [
       "1      10\n",
       "3      10\n",
       "10    100\n",
       "dtype: int64"
      ]
     },
     "metadata": {},
     "output_type": "display_data"
    },
    {
     "name": "stdout",
     "output_type": "stream",
     "text": [
      "cf2:\n"
     ]
    },
    {
     "data": {
      "text/plain": [
       "7     5\n",
       "8     5\n",
       "9     5\n",
       "10    5\n",
       "11    5\n",
       "12    5\n",
       "13    5\n",
       "14    5\n",
       "15    5\n",
       "16    5\n",
       "17    5\n",
       "18    5\n",
       "dtype: int64"
      ]
     },
     "metadata": {},
     "output_type": "display_data"
    }
   ],
   "source": [
    "CF = pyne.cashflow.create # helper\n",
    "AN = pyne.cashflow.indexAnnuity\n",
    "\n",
    "cf0 = CF(-100) # a scalar is taken at index 0\n",
    "cf1 = CF({1:10, 3:10, 10:100}) # an explicit index is used\n",
    "cf2 = AN(7, 12, 5) # annuity\n",
    "\n",
    "print(\"cf0:\")\n",
    "display(cf0)\n",
    "print(\"cf1:\")\n",
    "display(cf1)\n",
    "print(\"cf2:\")\n",
    "display(cf2)"
   ]
  },
  {
   "cell_type": "markdown",
   "metadata": {},
   "source": [
    "### Internal composition with indexed series"
   ]
  },
  {
   "cell_type": "code",
   "execution_count": 6,
   "metadata": {},
   "outputs": [
    {
     "data": {
      "text/plain": [
       "0    -100.0\n",
       "1      10.0\n",
       "3      10.0\n",
       "7       5.0\n",
       "8       5.0\n",
       "9       5.0\n",
       "10    105.0\n",
       "11      5.0\n",
       "12      5.0\n",
       "13      5.0\n",
       "14      5.0\n",
       "15      5.0\n",
       "16      5.0\n",
       "17      5.0\n",
       "18      5.0\n",
       "dtype: float64"
      ]
     },
     "metadata": {},
     "output_type": "display_data"
    }
   ],
   "source": [
    "cfTotal = pyne.cashflow.combineCashflows((cf0,cf1,cf2))\n",
    "display(cfTotal)"
   ]
  },
  {
   "cell_type": "markdown",
   "metadata": {},
   "source": [
    "### Internal TVM with indexed series"
   ]
  },
  {
   "cell_type": "code",
   "execution_count": 7,
   "metadata": {},
   "outputs": [
    {
     "name": "stdout",
     "output_type": "stream",
     "text": [
      "NPV, 10%: -25.610856949893815\n",
      "NPV, 0% (aka, sum): 80.0\n",
      "Time to recovery: 10\n"
     ]
    }
   ],
   "source": [
    "npv = IndexedNPV(0.1)\n",
    "print(\"NPV, 10%:\", npv.actualize(cfTotal))\n",
    "\n",
    "npv.ratePerPeriod = 0\n",
    "print(\"NPV, 0% (aka, sum):\", npv.actualize(cfTotal))\n",
    "\n",
    "print(\"Time to recovery:\", TTR_ACTUALIZER.actualize(cfTotal))"
   ]
  },
  {
   "cell_type": "markdown",
   "metadata": {},
   "source": [
    "## Period Series"
   ]
  },
  {
   "cell_type": "code",
   "execution_count": 8,
   "metadata": {},
   "outputs": [
    {
     "name": "stdout",
     "output_type": "stream",
     "text": [
      "cf0:\n",
      "2017-12   -100\n",
      "Freq: M, dtype: int64\n",
      "cf1:\n"
     ]
    },
    {
     "data": {
      "text/plain": [
       "2018-01     10\n",
       "2018-03     10\n",
       "2018-10    100\n",
       "Freq: M, dtype: int64"
      ]
     },
     "metadata": {},
     "output_type": "display_data"
    },
    {
     "name": "stdout",
     "output_type": "stream",
     "text": [
      "cf2:\n"
     ]
    },
    {
     "data": {
      "text/plain": [
       "2018-07    5\n",
       "2018-08    5\n",
       "2018-09    5\n",
       "2018-10    5\n",
       "2018-11    5\n",
       "2018-12    5\n",
       "2019-01    5\n",
       "2019-02    5\n",
       "2019-03    5\n",
       "2019-04    5\n",
       "2019-05    5\n",
       "2019-06    5\n",
       "Freq: M, dtype: int64"
      ]
     },
     "metadata": {},
     "output_type": "display_data"
    }
   ],
   "source": [
    "CF = pyne.cashflow.createMonths # helper\n",
    "AN = pyne.cashflow.annuityMonths\n",
    "\n",
    "cf0 = CF({\"2017-12\":-100})\n",
    "cf1 = CF({\"2018-01\":10, \"2018-03\":10, \"2018-10\":100}) # an explicit index is used\n",
    "\n",
    "cf2 = pd.Series(5, pd.period_range(\"2018-07\", periods=12, freq=\"M\")) # a pandas series can be used directly. Here, an annuity...\n",
    "\n",
    "def annuity(base, count, ammount):\n",
    "    return pd.Series(ammount, pd.period_range(base, periods=count, freq=\"M\"))\n",
    "\n",
    "cf2 = annuity(\"2018-07\", 12, 5)\n",
    "\n",
    "print(\"cf0:\")\n",
    "print(cf0)\n",
    "print(\"cf1:\")\n",
    "display(cf1)\n",
    "print(\"cf2:\")\n",
    "display(cf2)"
   ]
  },
  {
   "cell_type": "markdown",
   "metadata": {},
   "source": [
    "### Internal composition with indexed series"
   ]
  },
  {
   "cell_type": "code",
   "execution_count": 9,
   "metadata": {},
   "outputs": [
    {
     "data": {
      "text/plain": [
       "2017-12   -100.0\n",
       "2018-01     10.0\n",
       "2018-03     10.0\n",
       "2018-07      5.0\n",
       "2018-08      5.0\n",
       "2018-09      5.0\n",
       "2018-10    105.0\n",
       "2018-11      5.0\n",
       "2018-12      5.0\n",
       "2019-01      5.0\n",
       "2019-02      5.0\n",
       "2019-03      5.0\n",
       "2019-04      5.0\n",
       "2019-05      5.0\n",
       "2019-06      5.0\n",
       "Freq: M, dtype: float64"
      ]
     },
     "metadata": {},
     "output_type": "display_data"
    }
   ],
   "source": [
    "cfTotal = pyne.cashflow.combineCashflows((cf0,cf1,cf2))\n",
    "display(cfTotal)"
   ]
  },
  {
   "cell_type": "markdown",
   "metadata": {},
   "source": [
    "### Internal TVM with indexed series"
   ]
  },
  {
   "cell_type": "code",
   "execution_count": 10,
   "metadata": {},
   "outputs": [
    {
     "name": "stdout",
     "output_type": "stream",
     "text": [
      "NPV, 10%: -25.610856949893815\n",
      "NPV, 0% (aka, sum): 80.0\n",
      "Time to recovery: 10\n"
     ]
    }
   ],
   "source": [
    "firstPeriod = pd.Period(\"2017-12\", \"M\")\n",
    "npv = PeriodNPV(0.1, firstPeriod)\n",
    "print(\"NPV, 10%:\", npv.actualize(cfTotal))\n",
    "\n",
    "npv.ratePerPeriod = 0\n",
    "print(\"NPV, 0% (aka, sum):\", npv.actualize(cfTotal))\n",
    "\n",
    "print(\"Time to recovery:\", TTR_ACTUALIZER.actualize(cfTotal))"
   ]
  },
  {
   "cell_type": "markdown",
   "metadata": {},
   "source": [
    "## Period Series"
   ]
  },
  {
   "cell_type": "code",
   "execution_count": 15,
   "metadata": {},
   "outputs": [
    {
     "name": "stdout",
     "output_type": "stream",
     "text": [
      "2017-12:$-100.00\n",
      "2018-01:$10.00 ... 2018-10:$100.00 (3)\n",
      "2018-07:$5.00 ... 2019-06:$5.00 (12)\n"
     ]
    }
   ],
   "source": [
    "def formatSerie(serie: pd.Series, cashflowFormat=\"${:,.2f}\"):\n",
    "    \n",
    "    def formatOne(index):\n",
    "        at = index\n",
    "        ammount = serie[index]\n",
    "        return \"{}:{}\".format(at, cashflowFormat.format(ammount))\n",
    "    \n",
    "    if len(serie) == 0:\n",
    "        return None\n",
    "    if len(serie) == 1:        \n",
    "        return formatOne(serie.index[0])\n",
    "    return \"{} ... {} ({})\".format(\n",
    "        formatOne(serie.index[0]),\n",
    "        formatOne(serie.index[-1]),\n",
    "        len(serie),\n",
    "    )\n",
    "    \n",
    "    \n",
    "print(formatSerie(cf0))\n",
    "print(formatSerie(cf1))\n",
    "print(formatSerie(cf2))"
   ]
  },
  {
   "cell_type": "code",
   "execution_count": null,
   "metadata": {},
   "outputs": [],
   "source": []
  }
 ],
 "metadata": {
  "kernelspec": {
   "display_name": "Python 3",
   "language": "python",
   "name": "python3"
  },
  "language_info": {
   "codemirror_mode": {
    "name": "ipython",
    "version": 3
   },
   "file_extension": ".py",
   "mimetype": "text/x-python",
   "name": "python",
   "nbconvert_exporter": "python",
   "pygments_lexer": "ipython3",
   "version": "3.6.4"
  }
 },
 "nbformat": 4,
 "nbformat_minor": 2
}
