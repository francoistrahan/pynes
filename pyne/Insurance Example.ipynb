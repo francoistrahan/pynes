{
 "cells": [
  {
   "cell_type": "code",
   "execution_count": null,
   "metadata": {},
   "outputs": [],
   "source": [
    "# Insurance policies\n",
    "NO_INSURANCE = (\"Nothing\", 0, lambda x: x)\n",
    "\n",
    "POLICIES = (\n",
    "    (\"Stayin Alive\", 2000, lambda x: 0),\n",
    "    (\"Be Immortal\",  1500, lambda x: min(500, x)),\n",
    "    (\"Risk It\",      1000, lambda x:.25 * x),\n",
    "    NO_INSURANCE\n",
    ")"
   ]
  },
  {
   "cell_type": "code",
   "execution_count": null,
   "metadata": {},
   "outputs": [],
   "source": [
    "# Value and events\n",
    "\n",
    "LIFE = 200000\n",
    "\n",
    "P_SICK = .05\n",
    "\n",
    "LEVELS_PROBS = list(zip((.1, .2, .3), (.5, .4, .1)))\n",
    "\n",
    "\n"
   ]
  },
  {
   "cell_type": "code",
   "execution_count": null,
   "metadata": {},
   "outputs": [],
   "source": [
    "# Tree\n",
    "\n",
    "from pyne import Event, Transition\n",
    "from pyne.strategy import createMaxExpected\n",
    "\n",
    "\n",
    "# Being sick without Insurance\n",
    "policy = NO_INSURANCE\n",
    "\n",
    "name, cost, costFunction = policy\n",
    "\n",
    "howSick = Event(\"How Sick\")\n",
    "\n",
    "\n",
    "for l, p in LEVELS_PROBS:\n",
    "    cost = LIFE * l\n",
    "    costAfterPolicy = costFunction(cost)\n",
    "    howSick.transitions.append(\n",
    "        Transition(\"{:.0%} loss\".format(l), probability=p, payout=-costAfterPolicy)\n",
    "    )\n",
    "\n",
    "\n",
    "root = howSick"
   ]
  },
  {
   "cell_type": "code",
   "execution_count": null,
   "metadata": {},
   "outputs": [],
   "source": [
    "# Solve\n",
    "strategy = createMaxExpected()\n",
    "\n",
    "root.createPlaceholders()\n",
    "root.propagatePayouts(0)\n",
    "root.computePossibilities(strategy)\n",
    "root.propagateEndgameDistribution(1)"
   ]
  },
  {
   "cell_type": "code",
   "execution_count": null,
   "metadata": {},
   "outputs": [],
   "source": [
    "# Visualize\n",
    "import graphviz\n",
    "from pyne.render import GraphvizEngine\n",
    "\n",
    "eng = GraphvizEngine(root)\n",
    "graph = eng.render(\"svg\")\n",
    "\n",
    "graphviz.Source(graph)"
   ]
  },
  {
   "cell_type": "code",
   "execution_count": null,
   "metadata": {},
   "outputs": [],
   "source": [
    "# Being sick - Generalized\n",
    "\n",
    "def fallingSick(policy):\n",
    "    costFunction = policy[2]\n",
    "\n",
    "    howSick = Event(\"How Sick\")\n",
    "\n",
    "    for l, p in LEVELS_PROBS:\n",
    "        cost = LIFE * l\n",
    "        costAfterPolicy = costFunction(cost)\n",
    "        howSick.transitions.append(\n",
    "            Transition(\"{:.0%} loss\".format(l), probability=p, payout=-costAfterPolicy)\n",
    "        )\n",
    "        \n",
    "    getSick = Event(\"Get Sick ?\", (\n",
    "        Transition(\"Yes\", probability=P_SICK, target=howSick),\n",
    "        Transition(\"No\"),        \n",
    "    ))\n",
    "    return getSick"
   ]
  },
  {
   "cell_type": "code",
   "execution_count": null,
   "metadata": {},
   "outputs": [],
   "source": [
    "# Adding choices:\n",
    "\n",
    "from pyne import Decision\n",
    "\n",
    "whatPolicy = Decision(\"What Policy ?\")\n",
    "for pol in POLICIES:\n",
    "    name, cost, costFunction = pol\n",
    "    whatPolicy.transitions.append(Transition(name, -cost, target=fallingSick(pol)))\n",
    "    \n",
    "root = whatPolicy"
   ]
  },
  {
   "cell_type": "code",
   "execution_count": null,
   "metadata": {},
   "outputs": [],
   "source": [
    "# Solve\n",
    "strategy = createMaxExpected()\n",
    "\n",
    "root.createPlaceholders()\n",
    "root.propagatePayouts(0)\n",
    "root.computePossibilities(strategy)\n",
    "root.propagateEndgameDistribution(1)"
   ]
  },
  {
   "cell_type": "code",
   "execution_count": null,
   "metadata": {},
   "outputs": [],
   "source": [
    "# Visualize\n",
    "import graphviz\n",
    "from pyne.render import GraphvizEngine\n",
    "\n",
    "eng = GraphvizEngine(root)\n",
    "graph = eng.render(\"svg\")\n",
    "\n",
    "graphviz.Source(graph)"
   ]
  },
  {
   "cell_type": "code",
   "execution_count": null,
   "metadata": {},
   "outputs": [],
   "source": [
    "# So... the result is ?\n",
    "print(\"The best policy is {} with an expected cost of {:,.2f} $\".format(whatPolicy.results.choice.name, -whatPolicy.results.reducedPayout))\n",
    "\n",
    "print(\"Other options:\")\n",
    "\n",
    "otherOptions = [t for t in whatPolicy.transitions if t is not whatPolicy.results.choice]\n",
    "otherOptions = sorted(otherOptions, key=lambda t: t.target.results.reducedPayout, reverse=True)\n",
    "for op in otherOptions:\n",
    "    print(\"    {:12}: {:-,.2f} $\".format(op.name, -op.target.results.reducedPayout))"
   ]
  },
  {
   "cell_type": "code",
   "execution_count": null,
   "metadata": {},
   "outputs": [],
   "source": [
    "# Distribution plot\n",
    "from pyne import EndGame\n",
    "\n",
    "import pandas as pd\n",
    "import seaborn as sb\n",
    "\n",
    "\n",
    "endGames = (n for n in whatPolicy.getNodesFlat() if isinstance(n, EndGame) and hasattr(n.results, \"probability\"))\n",
    "possibilities = [(eg.results.probability, eg.results.reducedPayout) for eg in endGames]\n",
    "\n",
    "df = pd.DataFrame(possibilities, columns=\"prob payout\".split())\n",
    "\n",
    "sb.barplot(\"payout\", \"prob\", data=df)"
   ]
  },
  {
   "cell_type": "code",
   "execution_count": null,
   "metadata": {},
   "outputs": [],
   "source": [
    "# Being sick - Generalized\n",
    "strategy = createMaxExpected()\n",
    "\n",
    "def resolveForSickProb(pSick):\n",
    "\n",
    "    def fallingSick(policy):\n",
    "        costFunction = policy[2]\n",
    "\n",
    "        howSick = Event(\"Get Sick\")\n",
    "\n",
    "        for l, p in LEVELS_PROBS:\n",
    "            cost = LIFE * l\n",
    "            costAfterPolicy = costFunction(cost)\n",
    "            howSick.transitions.append(\n",
    "                Transition(\"{:.0%} loss\".format(l), probability=p, payout=-costAfterPolicy)\n",
    "            )\n",
    "\n",
    "        getSick = Event(\"Get Sick ?\", (\n",
    "            Transition(\"Yes\", probability=pSick, target=howSick),\n",
    "            Transition(\"No\"),\n",
    "\n",
    "        ))\n",
    "        return getSick\n",
    "\n",
    "    # Adding choices:\n",
    "\n",
    "    whatPolicy = Decision(\"What Policy ?\")\n",
    "    for pol in POLICIES:\n",
    "        name, cost, costFunction = pol\n",
    "        whatPolicy.transitions.append(Transition(name, -cost, target=fallingSick(pol)))\n",
    "\n",
    "    root = whatPolicy\n",
    "    \n",
    "    # Solve\n",
    "\n",
    "    root.createPlaceholders()\n",
    "    root.propagatePayouts(0)\n",
    "    root.computePossibilities(strategy)\n",
    "    root.propagateEndgameDistribution(1)\n",
    "    \n",
    "    bestPolicy = whatPolicy.results.choice.name\n",
    "    costs = [t.target.results.reducedPayout for t in whatPolicy.transitions]\n",
    "    \n",
    "    return (bestPolicy, *costs)\n"
   ]
  },
  {
   "cell_type": "code",
   "execution_count": null,
   "metadata": {},
   "outputs": [],
   "source": [
    "import numpy as np\n",
    "import matplotlib.pyplot as plt\n",
    "from matplotlib.colors import ListedColormap\n",
    "from matplotlib.ticker import FuncFormatter\n",
    "probs = np.linspace(0,1, 1000)\n",
    "\n",
    "names = [t.name for t in whatPolicy.transitions]\n",
    "\n",
    "df = pd.DataFrame([(p, *resolveForSickProb(p)) for p in probs], columns=(\"prob\", \"best\", *names))\n",
    "\n",
    "fig, axs = plt.subplots(1,2, sharey=True, figsize=(12,6))\n",
    "fig.suptitle(\"Policy comparisson\")\n",
    "ax=axs[0]\n",
    "df.plot(x=\"prob\", ylim=(-2100, 100), title=\"Complete\",ax=ax)\n",
    "ax.set(xlabel=\"Probability of getting sick\", ylabel=\"Total cost ($)\")\n",
    "ax.xaxis.set_major_formatter(FuncFormatter(\"{:.0%}\".format))\n",
    "ax.yaxis.set_major_formatter(FuncFormatter(\"{:,.0f}\".format))\n",
    "\n",
    "ax=axs[1]\n",
    "df[df.prob<.08].plot(x=\"prob\", ylim=(-2100, 100), title=\"Lower range\",ax=ax)\n",
    "ax.set(xlabel=\"Probability of getting sick\", ylabel=\"Total cost ($)\")\n",
    "ax.xaxis.set_major_formatter(FuncFormatter(\"{:.0%}\".format))\n",
    "ax.yaxis.set_major_formatter(FuncFormatter(\"{:,.0f}\".format))\n",
    "\n"
   ]
  },
  {
   "cell_type": "code",
   "execution_count": null,
   "metadata": {},
   "outputs": [],
   "source": []
  }
 ],
 "metadata": {
  "kernelspec": {
   "display_name": "Python 3",
   "language": "python",
   "name": "python3"
  },
  "language_info": {
   "codemirror_mode": {
    "name": "ipython",
    "version": 3
   },
   "file_extension": ".py",
   "mimetype": "text/x-python",
   "name": "python",
   "nbconvert_exporter": "python",
   "pygments_lexer": "ipython3",
   "version": "3.6.4"
  }
 },
 "nbformat": 4,
 "nbformat_minor": 2
}
