{
 "cells": [
  {
   "cell_type": "markdown",
   "metadata": {},
   "source": [
    "# Basic Idea \n",
    "\n",
    "This notebook is designed to show a few ways to manipulate decision trees and the early features built onto them.\n",
    "\n",
    "While helper functions exist (or will) for repetitive straightforward operations, explicit manipulation is shown here to give insight into the inner structure and what could be done with or without automated routines."
   ]
  },
  {
   "cell_type": "markdown",
   "metadata": {},
   "source": [
    "# Importing Libraries"
   ]
  },
  {
   "cell_type": "markdown",
   "metadata": {},
   "source": [
    "## Basic Data Tools"
   ]
  },
  {
   "cell_type": "code",
   "execution_count": 1,
   "metadata": {},
   "outputs": [],
   "source": [
    "import pandas as pd\n",
    "import numpy as np"
   ]
  },
  {
   "cell_type": "markdown",
   "metadata": {},
   "source": [
    "## Visulization Tools"
   ]
  },
  {
   "cell_type": "code",
   "execution_count": 2,
   "metadata": {},
   "outputs": [],
   "source": [
    "import matplotlib.pyplot as plt\n",
    "import seaborn as sb\n",
    "import graphviz\n",
    "\n",
    "from matplotlib.colors import ListedColormap\n",
    "from matplotlib.ticker import FuncFormatter"
   ]
  },
  {
   "cell_type": "markdown",
   "metadata": {},
   "source": [
    "## Decision Tree Library"
   ]
  },
  {
   "cell_type": "code",
   "execution_count": 3,
   "metadata": {},
   "outputs": [],
   "source": [
    "from pyne import *\n",
    "from pyne.strategy import *\n",
    "from pyne.render import GraphvizEngine"
   ]
  },
  {
   "cell_type": "markdown",
   "metadata": {},
   "source": [
    "# Parameters from Exercice"
   ]
  },
  {
   "cell_type": "markdown",
   "metadata": {},
   "source": [
    "## Insurance Policies"
   ]
  },
  {
   "cell_type": "code",
   "execution_count": 4,
   "metadata": {},
   "outputs": [],
   "source": [
    "NO_INSURANCE = (\"Nothing\", 0, lambda x: x)\n",
    "\n",
    "POLICIES = (\n",
    "    (\"Stayin Alive\", 2000, lambda x: 0),\n",
    "    (\"Be Immortal\",  1500, lambda x: min(500, x)),\n",
    "    (\"Risk It\",      1000, lambda x:.25 * x),\n",
    "    NO_INSURANCE\n",
    ")"
   ]
  },
  {
   "cell_type": "markdown",
   "metadata": {},
   "source": [
    "## Values and Probabilities"
   ]
  },
  {
   "cell_type": "code",
   "execution_count": 5,
   "metadata": {},
   "outputs": [],
   "source": [
    "LIFE = 200000\n",
    "\n",
    "P_SICK = .05\n",
    "\n",
    "LEVELS_PROBS = list(zip((.1, .2, .3), (.5, .4, .1)))"
   ]
  },
  {
   "cell_type": "markdown",
   "metadata": {},
   "source": [
    "# A Short Tree: How Bad Can You Get Sick (Without Insurance)"
   ]
  },
  {
   "cell_type": "markdown",
   "metadata": {},
   "source": [
    "## Build the Tree\n",
    "\n",
    "It would have been faster here to exp,icitly create four transitions and pass them to the event constructor, but I wanted to demonstrate the capacity to build a tree programmatically.\n",
    "\n",
    "In production usage, simple trees would typically gain from bein built using the constructors, where the textual layout reflects the shape of the tree, along with a few helpers for repetitive patterns."
   ]
  },
  {
   "cell_type": "code",
   "execution_count": 6,
   "metadata": {},
   "outputs": [],
   "source": [
    "name, cost, costFunction = NO_INSURANCE\n",
    "\n",
    "howSick = Event(\"How Sick\")\n",
    "\n",
    "for l, p in LEVELS_PROBS:\n",
    "    cost = LIFE * l\n",
    "    costAfterPolicy = costFunction(cost)\n",
    "    howSick.transitions.append(\n",
    "        Transition(\"{:.0%} loss\".format(l),\n",
    "                   probability=p, payout=-costAfterPolicy))\n",
    "\n",
    "getSick = Event(\"Get Sick ?\", (\n",
    "    Transition(\"Yes\", probability=P_SICK, target=howSick),\n",
    "    Transition(\"No\"),        \n",
    "))"
   ]
  },
  {
   "cell_type": "markdown",
   "metadata": {},
   "source": [
    "## Solve\n",
    "\n",
    "There is a helper function solve(strategy) that streamlines this process. Still, it is possible to control the individual steps, as shown here. This could be useful, for example, to solve a partial tree, or adjust a tree that has already been partially observed.\n",
    "\n",
    "Note that while \"end game\" nodes are first class citizens of the tree, they do not need to be explicity created. Since, in this case, we do not need a reference to a specific end-game, we let the library generate placeholders (labelled \"Done\") before invocation.\n",
    "\n",
    "These are flagged as placeholders and would be cleaned out  (along with the results) if we were to reset the tree."
   ]
  },
  {
   "cell_type": "code",
   "execution_count": 7,
   "metadata": {},
   "outputs": [],
   "source": [
    "strategy = createMaxExpected()\n",
    "\n",
    "getSick.createPlaceholders()\n",
    "getSick.propagatePayouts(0)\n",
    "getSick.computePossibilities(strategy)\n",
    "getSick.propagateEndgameDistribution(1)"
   ]
  },
  {
   "cell_type": "markdown",
   "metadata": {},
   "source": [
    "# Visualize the Results\n",
    "\n",
    "Nodes actually have a function plot() that takes care of this part, and adds some temporary file cleanup."
   ]
  },
  {
   "cell_type": "code",
   "execution_count": 8,
   "metadata": {},
   "outputs": [
    {
     "data": {
      "image/svg+xml": [
       "<?xml version=\"1.0\" encoding=\"UTF-8\" standalone=\"no\"?>\n",
       "<!DOCTYPE svg PUBLIC \"-//W3C//DTD SVG 1.1//EN\"\n",
       " \"http://www.w3.org/Graphics/SVG/1.1/DTD/svg11.dtd\">\n",
       "<!-- Generated by graphviz version 2.38.0 (20140413.2041)\n",
       " -->\n",
       "<!-- Title: %3 Pages: 1 -->\n",
       "<svg width=\"710pt\" height=\"311pt\"\n",
       " viewBox=\"0.00 0.00 709.94 311.13\" xmlns=\"http://www.w3.org/2000/svg\" xmlns:xlink=\"http://www.w3.org/1999/xlink\">\n",
       "<g id=\"graph0\" class=\"graph\" transform=\"scale(1 1) rotate(0) translate(4 307.129)\">\n",
       "<title>%3</title>\n",
       "<polygon fill=\"white\" stroke=\"none\" points=\"-4,4 -4,-307.129 705.945,-307.129 705.945,4 -4,4\"/>\n",
       "<!-- ev1 -->\n",
       "<g id=\"node1\" class=\"node\"><title>ev1</title>\n",
       "<ellipse fill=\"red\" stroke=\"black\" cx=\"71.4178\" cy=\"-93.5644\" rx=\"71.3357\" ry=\"26.7407\"/>\n",
       "<text text-anchor=\"middle\" x=\"71.4178\" y=\"-97.3644\" font-family=\"Times,serif\" font-size=\"14.00\" fill=\"white\">Get Sick ?</text>\n",
       "<text text-anchor=\"middle\" x=\"71.4178\" y=\"-82.3644\" font-family=\"Times,serif\" font-size=\"14.00\" fill=\"white\">R$ = &#45;1,600.00</text>\n",
       "</g>\n",
       "<!-- ev2 -->\n",
       "<g id=\"node2\" class=\"node\"><title>ev2</title>\n",
       "<ellipse fill=\"red\" stroke=\"black\" cx=\"333.496\" cy=\"-151.564\" rx=\"75.8212\" ry=\"26.7407\"/>\n",
       "<text text-anchor=\"middle\" x=\"333.496\" y=\"-155.364\" font-family=\"Times,serif\" font-size=\"14.00\" fill=\"white\">How Sick</text>\n",
       "<text text-anchor=\"middle\" x=\"333.496\" y=\"-140.364\" font-family=\"Times,serif\" font-size=\"14.00\" fill=\"white\">R$ = &#45;32,000.00</text>\n",
       "</g>\n",
       "<!-- ev1&#45;&gt;ev2 -->\n",
       "<g id=\"edge4\" class=\"edge\"><title>ev1&#45;&gt;ev2</title>\n",
       "<path fill=\"none\" stroke=\"black\" d=\"M133.395,-107.163C170.904,-115.528 219.212,-126.301 258.85,-135.141\"/>\n",
       "<polygon fill=\"black\" stroke=\"black\" points=\"258.207,-138.583 268.729,-137.344 259.731,-131.751 258.207,-138.583\"/>\n",
       "<text text-anchor=\"middle\" x=\"200.336\" y=\"-147.364\" font-family=\"Times,serif\" font-size=\"14.00\">Yes</text>\n",
       "<text text-anchor=\"middle\" x=\"200.336\" y=\"-132.364\" font-family=\"Times,serif\" font-size=\"14.00\">(P= 5.0000%)</text>\n",
       "</g>\n",
       "<!-- eg6 -->\n",
       "<g id=\"node6\" class=\"node\"><title>eg6</title>\n",
       "<polygon fill=\"blue\" stroke=\"black\" points=\"400.709,-45.7378 400.709,-79.3911 361.337,-103.188 305.655,-103.188 266.283,-79.3911 266.283,-45.7378 305.655,-21.9413 361.337,-21.9413 400.709,-45.7378\"/>\n",
       "<polygon fill=\"none\" stroke=\"black\" points=\"404.701,-43.4741 404.701,-81.6547 362.446,-107.193 304.546,-107.193 262.291,-81.6547 262.291,-43.4741 304.546,-17.9355 362.446,-17.9355 404.701,-43.4741\"/>\n",
       "<text text-anchor=\"middle\" x=\"333.496\" y=\"-73.8644\" font-family=\"Times,serif\" font-size=\"14.00\" fill=\"white\">Done</text>\n",
       "<text text-anchor=\"middle\" x=\"333.496\" y=\"-58.8644\" font-family=\"Times,serif\" font-size=\"14.00\" fill=\"white\">R$ = 0.00</text>\n",
       "<text text-anchor=\"middle\" x=\"333.496\" y=\"-43.8644\" font-family=\"Times,serif\" font-size=\"14.00\" fill=\"white\">(P= 95.00%)</text>\n",
       "</g>\n",
       "<!-- ev1&#45;&gt;eg6 -->\n",
       "<g id=\"edge5\" class=\"edge\"><title>ev1&#45;&gt;eg6</title>\n",
       "<path fill=\"none\" stroke=\"black\" d=\"M139.733,-85.5409C174.126,-81.4413 216.217,-76.4243 252.284,-72.1253\"/>\n",
       "<polygon fill=\"black\" stroke=\"black\" points=\"252.77,-75.5923 262.285,-70.9332 251.941,-68.6415 252.77,-75.5923\"/>\n",
       "<text text-anchor=\"middle\" x=\"200.336\" y=\"-87.3644\" font-family=\"Times,serif\" font-size=\"14.00\">No</text>\n",
       "</g>\n",
       "<!-- eg3 -->\n",
       "<g id=\"node3\" class=\"node\"><title>eg3</title>\n",
       "<polygon fill=\"blue\" stroke=\"black\" points=\"697.844,-241.738 697.844,-275.391 649.931,-299.188 582.171,-299.188 534.257,-275.391 534.257,-241.738 582.171,-217.941 649.931,-217.941 697.844,-241.738\"/>\n",
       "<polygon fill=\"none\" stroke=\"black\" points=\"701.839,-239.252 701.839,-277.877 650.866,-303.193 581.235,-303.193 530.262,-277.877 530.262,-239.252 581.235,-213.935 650.866,-213.935 701.839,-239.252\"/>\n",
       "<text text-anchor=\"middle\" x=\"616.051\" y=\"-269.864\" font-family=\"Times,serif\" font-size=\"14.00\" fill=\"white\">Done</text>\n",
       "<text text-anchor=\"middle\" x=\"616.051\" y=\"-254.864\" font-family=\"Times,serif\" font-size=\"14.00\" fill=\"white\">R$ = &#45;20,000.00</text>\n",
       "<text text-anchor=\"middle\" x=\"616.051\" y=\"-239.864\" font-family=\"Times,serif\" font-size=\"14.00\" fill=\"white\">(P= 2.50%)</text>\n",
       "</g>\n",
       "<!-- ev2&#45;&gt;eg3 -->\n",
       "<g id=\"edge1\" class=\"edge\"><title>ev2&#45;&gt;eg3</title>\n",
       "<path fill=\"none\" stroke=\"black\" d=\"M373.845,-174.463C390.03,-183.326 409.169,-193.109 427.156,-200.564 458.033,-213.362 492.774,-224.854 523.908,-234.167\"/>\n",
       "<polygon fill=\"black\" stroke=\"black\" points=\"523.298,-237.637 533.88,-237.113 525.282,-230.923 523.298,-237.637\"/>\n",
       "<text text-anchor=\"middle\" x=\"469.656\" y=\"-262.364\" font-family=\"Times,serif\" font-size=\"14.00\">10% loss</text>\n",
       "<text text-anchor=\"middle\" x=\"469.656\" y=\"-247.364\" font-family=\"Times,serif\" font-size=\"14.00\">$= &#45;20,000.00</text>\n",
       "<text text-anchor=\"middle\" x=\"469.656\" y=\"-232.364\" font-family=\"Times,serif\" font-size=\"14.00\">(P= 50.0000%)</text>\n",
       "</g>\n",
       "<!-- eg4 -->\n",
       "<g id=\"node4\" class=\"node\"><title>eg4</title>\n",
       "<polygon fill=\"blue\" stroke=\"black\" points=\"697.844,-134.738 697.844,-168.391 649.931,-192.188 582.171,-192.188 534.257,-168.391 534.257,-134.738 582.171,-110.941 649.931,-110.941 697.844,-134.738\"/>\n",
       "<polygon fill=\"none\" stroke=\"black\" points=\"701.839,-132.252 701.839,-170.877 650.866,-196.193 581.235,-196.193 530.262,-170.877 530.262,-132.252 581.235,-106.935 650.866,-106.935 701.839,-132.252\"/>\n",
       "<text text-anchor=\"middle\" x=\"616.051\" y=\"-162.864\" font-family=\"Times,serif\" font-size=\"14.00\" fill=\"white\">Done</text>\n",
       "<text text-anchor=\"middle\" x=\"616.051\" y=\"-147.864\" font-family=\"Times,serif\" font-size=\"14.00\" fill=\"white\">R$ = &#45;40,000.00</text>\n",
       "<text text-anchor=\"middle\" x=\"616.051\" y=\"-132.864\" font-family=\"Times,serif\" font-size=\"14.00\" fill=\"white\">(P= 2.00%)</text>\n",
       "</g>\n",
       "<!-- ev2&#45;&gt;eg4 -->\n",
       "<g id=\"edge2\" class=\"edge\"><title>ev2&#45;&gt;eg4</title>\n",
       "<path fill=\"none\" stroke=\"black\" d=\"M409.311,-151.564C443.289,-151.564 483.872,-151.564 519.98,-151.564\"/>\n",
       "<polygon fill=\"black\" stroke=\"black\" points=\"520.037,-155.065 530.037,-151.564 520.037,-148.065 520.037,-155.065\"/>\n",
       "<text text-anchor=\"middle\" x=\"469.656\" y=\"-185.364\" font-family=\"Times,serif\" font-size=\"14.00\">20% loss</text>\n",
       "<text text-anchor=\"middle\" x=\"469.656\" y=\"-170.364\" font-family=\"Times,serif\" font-size=\"14.00\">$= &#45;40,000.00</text>\n",
       "<text text-anchor=\"middle\" x=\"469.656\" y=\"-155.364\" font-family=\"Times,serif\" font-size=\"14.00\">(P= 40.0000%)</text>\n",
       "</g>\n",
       "<!-- eg5 -->\n",
       "<g id=\"node5\" class=\"node\"><title>eg5</title>\n",
       "<polygon fill=\"blue\" stroke=\"black\" points=\"697.844,-27.7378 697.844,-61.3911 649.931,-85.1876 582.171,-85.1876 534.257,-61.3911 534.257,-27.7378 582.171,-3.94126 649.931,-3.94126 697.844,-27.7378\"/>\n",
       "<polygon fill=\"none\" stroke=\"black\" points=\"701.839,-25.2517 701.839,-63.8772 650.866,-89.1934 581.235,-89.1934 530.262,-63.8772 530.262,-25.2517 581.235,0.0645372 650.866,0.0645372 701.839,-25.2517\"/>\n",
       "<text text-anchor=\"middle\" x=\"616.051\" y=\"-55.8644\" font-family=\"Times,serif\" font-size=\"14.00\" fill=\"white\">Done</text>\n",
       "<text text-anchor=\"middle\" x=\"616.051\" y=\"-40.8644\" font-family=\"Times,serif\" font-size=\"14.00\" fill=\"white\">R$ = &#45;60,000.00</text>\n",
       "<text text-anchor=\"middle\" x=\"616.051\" y=\"-25.8644\" font-family=\"Times,serif\" font-size=\"14.00\" fill=\"white\">(P= 0.50%)</text>\n",
       "</g>\n",
       "<!-- ev2&#45;&gt;eg5 -->\n",
       "<g id=\"edge3\" class=\"edge\"><title>ev2&#45;&gt;eg5</title>\n",
       "<path fill=\"none\" stroke=\"black\" d=\"M382.722,-130.889C391.697,-126.504 400.856,-121.65 409.156,-116.564 417.798,-111.27 418.168,-107.247 427.156,-102.564 456.117,-87.4791 489.666,-75.5698 520.332,-66.569\"/>\n",
       "<polygon fill=\"black\" stroke=\"black\" points=\"521.528,-69.8671 530.178,-63.7485 519.6,-63.1378 521.528,-69.8671\"/>\n",
       "<text text-anchor=\"middle\" x=\"469.656\" y=\"-136.364\" font-family=\"Times,serif\" font-size=\"14.00\">30% loss</text>\n",
       "<text text-anchor=\"middle\" x=\"469.656\" y=\"-121.364\" font-family=\"Times,serif\" font-size=\"14.00\">$= &#45;60,000.00</text>\n",
       "<text text-anchor=\"middle\" x=\"469.656\" y=\"-106.364\" font-family=\"Times,serif\" font-size=\"14.00\">(P= 10.0000%)</text>\n",
       "</g>\n",
       "</g>\n",
       "</svg>\n"
      ],
      "text/plain": [
       "<graphviz.files.Source at 0x7f327a27f390>"
      ]
     },
     "execution_count": 8,
     "metadata": {},
     "output_type": "execute_result"
    }
   ],
   "source": [
    "eng = GraphvizEngine(getSick)\n",
    "graph = eng.render(\"svg\")\n",
    "graphviz.Source(graph)"
   ]
  },
  {
   "cell_type": "markdown",
   "metadata": {},
   "source": [
    "# Being sick - Generalized"
   ]
  },
  {
   "cell_type": "markdown",
   "metadata": {},
   "source": [
    "## Generating the \"Being Sick\" Pattern\n",
    "\n",
    "Since the pattern presented above has to be repeated for each policy, it is interesting to create a helper function to generate it, according to each policy."
   ]
  },
  {
   "cell_type": "code",
   "execution_count": 9,
   "metadata": {},
   "outputs": [],
   "source": [
    "def fallingSick(policy):\n",
    "    costFunction = policy[2]\n",
    "\n",
    "    howSick = Event(\"How Sick\")\n",
    "\n",
    "    for l, p in LEVELS_PROBS:\n",
    "        cost = LIFE * l\n",
    "        costAfterPolicy = costFunction(cost)\n",
    "        howSick.transitions.append(\n",
    "            Transition(\"{:.0%} loss\".format(l), \n",
    "                       probability=p, payout=-costAfterPolicy))\n",
    "        \n",
    "    getSick = Event(\"Get Sick ?\", (\n",
    "        Transition(\"Yes\", probability=P_SICK, target=howSick),\n",
    "        Transition(\"No\")))\n",
    "    \n",
    "    return getSick"
   ]
  },
  {
   "cell_type": "markdown",
   "metadata": {},
   "source": [
    "## Creating the Decision Nodes\n",
    "\n",
    "We iterate through our policy list to create the transition of the policy decision nodes towards the \"getting sick\" pattern created using the previous function."
   ]
  },
  {
   "cell_type": "code",
   "execution_count": 10,
   "metadata": {},
   "outputs": [],
   "source": [
    "whatPolicy = Decision(\"What Policy ?\")\n",
    "for pol in POLICIES:\n",
    "    name, cost, costFunction = pol\n",
    "    whatPolicy.transitions.append(\n",
    "        Transition(name, -cost, target=fallingSick(pol)))"
   ]
  },
  {
   "cell_type": "markdown",
   "metadata": {},
   "source": [
    "## Solve\n",
    "\n",
    "You would normally look at the tree before solving it, I skip this step for brievety."
   ]
  },
  {
   "cell_type": "code",
   "execution_count": 11,
   "metadata": {},
   "outputs": [],
   "source": [
    "strategy = createMaxExpected()\n",
    "\n",
    "whatPolicy.createPlaceholders()\n",
    "whatPolicy.propagatePayouts(0)\n",
    "whatPolicy.computePossibilities(strategy)\n",
    "whatPolicy.propagateEndgameDistribution(1)"
   ]
  },
  {
   "cell_type": "markdown",
   "metadata": {},
   "source": [
    "## Visualize"
   ]
  },
  {
   "cell_type": "code",
   "execution_count": 12,
   "metadata": {},
   "outputs": [
    {
     "data": {
      "image/svg+xml": [
       "<?xml version=\"1.0\" encoding=\"UTF-8\" standalone=\"no\"?>\n",
       "<!DOCTYPE svg PUBLIC \"-//W3C//DTD SVG 1.1//EN\"\n",
       " \"http://www.w3.org/Graphics/SVG/1.1/DTD/svg11.dtd\">\n",
       "<!-- Generated by graphviz version 2.38.0 (20140413.2041)\n",
       " -->\n",
       "<!-- Title: %3 Pages: 1 -->\n",
       "<svg width=\"930pt\" height=\"1068pt\"\n",
       " viewBox=\"0.00 0.00 930.23 1068.17\" xmlns=\"http://www.w3.org/2000/svg\" xmlns:xlink=\"http://www.w3.org/1999/xlink\">\n",
       "<g id=\"graph0\" class=\"graph\" transform=\"scale(1 1) rotate(0) translate(4 1064.17)\">\n",
       "<title>%3</title>\n",
       "<polygon fill=\"white\" stroke=\"none\" points=\"-4,4 -4,-1064.17 926.228,-1064.17 926.228,4 -4,4\"/>\n",
       "<!-- d1 -->\n",
       "<g id=\"node1\" class=\"node\"><title>d1</title>\n",
       "<polygon fill=\"green\" stroke=\"black\" points=\"101,-508.084 0,-508.084 0,-470.084 101,-470.084 101,-508.084\"/>\n",
       "<text text-anchor=\"middle\" x=\"50.5\" y=\"-492.884\" font-family=\"Times,serif\" font-size=\"14.00\" fill=\"white\">What Policy ?</text>\n",
       "<text text-anchor=\"middle\" x=\"50.5\" y=\"-477.884\" font-family=\"Times,serif\" font-size=\"14.00\" fill=\"white\">R$ = &#45;1,400.00</text>\n",
       "</g>\n",
       "<!-- ev2 -->\n",
       "<g id=\"node2\" class=\"node\"><title>ev2</title>\n",
       "<ellipse fill=\"lightgrey\" stroke=\"black\" cx=\"280.418\" cy=\"-757.084\" rx=\"71.3357\" ry=\"26.7407\"/>\n",
       "<text text-anchor=\"middle\" x=\"280.418\" y=\"-760.884\" font-family=\"Times,serif\" font-size=\"14.00\" fill=\"white\">Get Sick ?</text>\n",
       "<text text-anchor=\"middle\" x=\"280.418\" y=\"-745.884\" font-family=\"Times,serif\" font-size=\"14.00\" fill=\"white\">R$ = &#45;2,000.00</text>\n",
       "</g>\n",
       "<!-- d1&#45;&gt;ev2 -->\n",
       "<g id=\"edge6\" class=\"edge\"><title>d1&#45;&gt;ev2</title>\n",
       "<path fill=\"none\" stroke=\"lightgrey\" d=\"M67.8913,-508.358C106.319,-553.543 202.605,-666.763 250.883,-723.531\"/>\n",
       "<polygon fill=\"lightgrey\" stroke=\"lightgrey\" points=\"248.5,-726.132 257.645,-731.482 253.833,-721.597 248.5,-726.132\"/>\n",
       "<text text-anchor=\"middle\" x=\"155\" y=\"-666.884\" font-family=\"Times,serif\" font-size=\"14.00\">Stayin Alive</text>\n",
       "<text text-anchor=\"middle\" x=\"155\" y=\"-651.884\" font-family=\"Times,serif\" font-size=\"14.00\">$= &#45;2,000.00</text>\n",
       "</g>\n",
       "<!-- ev8 -->\n",
       "<g id=\"node8\" class=\"node\"><title>ev8</title>\n",
       "<ellipse fill=\"lightgrey\" stroke=\"black\" cx=\"280.418\" cy=\"-558.084\" rx=\"71.3357\" ry=\"26.7407\"/>\n",
       "<text text-anchor=\"middle\" x=\"280.418\" y=\"-561.884\" font-family=\"Times,serif\" font-size=\"14.00\" fill=\"white\">Get Sick ?</text>\n",
       "<text text-anchor=\"middle\" x=\"280.418\" y=\"-546.884\" font-family=\"Times,serif\" font-size=\"14.00\" fill=\"white\">R$ = &#45;1,525.00</text>\n",
       "</g>\n",
       "<!-- d1&#45;&gt;ev8 -->\n",
       "<g id=\"edge12\" class=\"edge\"><title>d1&#45;&gt;ev8</title>\n",
       "<path fill=\"none\" stroke=\"lightgrey\" d=\"M101.236,-504.141C134.4,-514.181 178.338,-527.483 214.284,-538.365\"/>\n",
       "<polygon fill=\"lightgrey\" stroke=\"lightgrey\" points=\"213.61,-541.818 224.195,-541.366 215.638,-535.118 213.61,-541.818\"/>\n",
       "<text text-anchor=\"middle\" x=\"155\" y=\"-548.884\" font-family=\"Times,serif\" font-size=\"14.00\">Be Immortal</text>\n",
       "<text text-anchor=\"middle\" x=\"155\" y=\"-533.884\" font-family=\"Times,serif\" font-size=\"14.00\">$= &#45;1,500.00</text>\n",
       "</g>\n",
       "<!-- ev14 -->\n",
       "<g id=\"node14\" class=\"node\"><title>ev14</title>\n",
       "<ellipse fill=\"red\" stroke=\"black\" cx=\"280.418\" cy=\"-427.084\" rx=\"71.3357\" ry=\"26.7407\"/>\n",
       "<text text-anchor=\"middle\" x=\"280.418\" y=\"-430.884\" font-family=\"Times,serif\" font-size=\"14.00\" fill=\"white\">Get Sick ?</text>\n",
       "<text text-anchor=\"middle\" x=\"280.418\" y=\"-415.884\" font-family=\"Times,serif\" font-size=\"14.00\" fill=\"white\">R$ = &#45;1,400.00</text>\n",
       "</g>\n",
       "<!-- d1&#45;&gt;ev14 -->\n",
       "<g id=\"edge18\" class=\"edge\"><title>d1&#45;&gt;ev14</title>\n",
       "<path fill=\"none\" stroke=\"black\" d=\"M101.236,-475.554C133.801,-466.696 176.755,-455.011 212.329,-445.334\"/>\n",
       "<polygon fill=\"black\" stroke=\"black\" points=\"213.422,-448.664 222.153,-442.662 211.585,-441.909 213.422,-448.664\"/>\n",
       "<text text-anchor=\"middle\" x=\"155\" y=\"-487.884\" font-family=\"Times,serif\" font-size=\"14.00\">Risk It</text>\n",
       "<text text-anchor=\"middle\" x=\"155\" y=\"-472.884\" font-family=\"Times,serif\" font-size=\"14.00\">$= &#45;1,000.00</text>\n",
       "</g>\n",
       "<!-- ev20 -->\n",
       "<g id=\"node20\" class=\"node\"><title>ev20</title>\n",
       "<ellipse fill=\"lightgrey\" stroke=\"black\" cx=\"280.418\" cy=\"-159.084\" rx=\"71.3357\" ry=\"26.7407\"/>\n",
       "<text text-anchor=\"middle\" x=\"280.418\" y=\"-162.884\" font-family=\"Times,serif\" font-size=\"14.00\" fill=\"white\">Get Sick ?</text>\n",
       "<text text-anchor=\"middle\" x=\"280.418\" y=\"-147.884\" font-family=\"Times,serif\" font-size=\"14.00\" fill=\"white\">R$ = &#45;1,600.00</text>\n",
       "</g>\n",
       "<!-- d1&#45;&gt;ev20 -->\n",
       "<g id=\"edge24\" class=\"edge\"><title>d1&#45;&gt;ev20</title>\n",
       "<path fill=\"none\" stroke=\"lightgrey\" d=\"M64.739,-469.915C101.912,-416.093 207.64,-263.01 255.436,-193.806\"/>\n",
       "<polygon fill=\"lightgrey\" stroke=\"lightgrey\" points=\"258.438,-195.619 261.241,-185.401 252.679,-191.641 258.438,-195.619\"/>\n",
       "<text text-anchor=\"middle\" x=\"155\" y=\"-401.884\" font-family=\"Times,serif\" font-size=\"14.00\">Nothing</text>\n",
       "<text text-anchor=\"middle\" x=\"155\" y=\"-386.884\" font-family=\"Times,serif\" font-size=\"14.00\">$= 0.00</text>\n",
       "</g>\n",
       "<!-- ev3 -->\n",
       "<g id=\"node3\" class=\"node\"><title>ev3</title>\n",
       "<ellipse fill=\"lightgrey\" stroke=\"black\" cx=\"548.138\" cy=\"-901.084\" rx=\"71.3357\" ry=\"26.7407\"/>\n",
       "<text text-anchor=\"middle\" x=\"548.138\" y=\"-904.884\" font-family=\"Times,serif\" font-size=\"14.00\" fill=\"white\">How Sick</text>\n",
       "<text text-anchor=\"middle\" x=\"548.138\" y=\"-889.884\" font-family=\"Times,serif\" font-size=\"14.00\" fill=\"white\">R$ = &#45;2,000.00</text>\n",
       "</g>\n",
       "<!-- ev2&#45;&gt;ev3 -->\n",
       "<g id=\"edge4\" class=\"edge\"><title>ev2&#45;&gt;ev3</title>\n",
       "<path fill=\"none\" stroke=\"lightgrey\" d=\"M322.064,-779.111C369.243,-804.679 447.034,-846.836 497.679,-874.281\"/>\n",
       "<polygon fill=\"lightgrey\" stroke=\"lightgrey\" points=\"496.036,-877.372 506.496,-879.059 499.371,-871.217 496.036,-877.372\"/>\n",
       "<text text-anchor=\"middle\" x=\"409.336\" y=\"-865.884\" font-family=\"Times,serif\" font-size=\"14.00\">Yes</text>\n",
       "<text text-anchor=\"middle\" x=\"409.336\" y=\"-850.884\" font-family=\"Times,serif\" font-size=\"14.00\">(P= 5.0000%)</text>\n",
       "</g>\n",
       "<!-- eg7 -->\n",
       "<g id=\"node7\" class=\"node\"><title>eg7</title>\n",
       "<polygon fill=\"lightgrey\" stroke=\"black\" points=\"625.252,-745.006 625.252,-769.162 580.079,-786.242 516.196,-786.242 471.023,-769.162 471.023,-745.006 516.196,-727.926 580.079,-727.926 625.252,-745.006\"/>\n",
       "<polygon fill=\"none\" stroke=\"black\" points=\"629.242,-742.23 629.242,-771.937 580.805,-790.252 515.47,-790.252 467.033,-771.937 467.033,-742.23 515.47,-723.916 580.805,-723.916 629.242,-742.23\"/>\n",
       "<text text-anchor=\"middle\" x=\"548.138\" y=\"-760.884\" font-family=\"Times,serif\" font-size=\"14.00\" fill=\"white\">Done</text>\n",
       "<text text-anchor=\"middle\" x=\"548.138\" y=\"-745.884\" font-family=\"Times,serif\" font-size=\"14.00\" fill=\"white\">R$ = &#45;2,000.00</text>\n",
       "</g>\n",
       "<!-- ev2&#45;&gt;eg7 -->\n",
       "<g id=\"edge5\" class=\"edge\"><title>ev2&#45;&gt;eg7</title>\n",
       "<path fill=\"none\" stroke=\"lightgrey\" d=\"M351.928,-757.084C384.114,-757.084 422.613,-757.084 456.883,-757.084\"/>\n",
       "<polygon fill=\"lightgrey\" stroke=\"lightgrey\" points=\"456.898,-760.584 466.898,-757.084 456.898,-753.584 456.898,-760.584\"/>\n",
       "<text text-anchor=\"middle\" x=\"409.336\" y=\"-760.884\" font-family=\"Times,serif\" font-size=\"14.00\">No</text>\n",
       "</g>\n",
       "<!-- eg4 -->\n",
       "<g id=\"node4\" class=\"node\"><title>eg4</title>\n",
       "<polygon fill=\"lightgrey\" stroke=\"black\" points=\"913.448,-1015.01 913.448,-1039.16 868.276,-1056.24 804.392,-1056.24 759.22,-1039.16 759.22,-1015.01 804.392,-997.926 868.276,-997.926 913.448,-1015.01\"/>\n",
       "<polygon fill=\"none\" stroke=\"black\" points=\"917.439,-1012.23 917.439,-1041.94 869.002,-1060.25 803.666,-1060.25 755.229,-1041.94 755.229,-1012.23 803.666,-993.916 869.002,-993.916 917.439,-1012.23\"/>\n",
       "<text text-anchor=\"middle\" x=\"836.334\" y=\"-1030.88\" font-family=\"Times,serif\" font-size=\"14.00\" fill=\"white\">Done</text>\n",
       "<text text-anchor=\"middle\" x=\"836.334\" y=\"-1015.88\" font-family=\"Times,serif\" font-size=\"14.00\" fill=\"white\">R$ = &#45;2,000.00</text>\n",
       "</g>\n",
       "<!-- ev3&#45;&gt;eg4 -->\n",
       "<g id=\"edge1\" class=\"edge\"><title>ev3&#45;&gt;eg4</title>\n",
       "<path fill=\"none\" stroke=\"lightgrey\" d=\"M576.507,-926.159C595.263,-942.166 621.378,-962.248 647.44,-975.084 678.121,-990.195 713.856,-1001.48 745.874,-1009.6\"/>\n",
       "<polygon fill=\"lightgrey\" stroke=\"lightgrey\" points=\"745.135,-1013.02 755.682,-1012.02 746.812,-1006.23 745.135,-1013.02\"/>\n",
       "<text text-anchor=\"middle\" x=\"689.94\" y=\"-1038.88\" font-family=\"Times,serif\" font-size=\"14.00\">10% loss</text>\n",
       "<text text-anchor=\"middle\" x=\"689.94\" y=\"-1023.88\" font-family=\"Times,serif\" font-size=\"14.00\">$= 0.00</text>\n",
       "<text text-anchor=\"middle\" x=\"689.94\" y=\"-1008.88\" font-family=\"Times,serif\" font-size=\"14.00\">(P= 50.0000%)</text>\n",
       "</g>\n",
       "<!-- eg5 -->\n",
       "<g id=\"node5\" class=\"node\"><title>eg5</title>\n",
       "<polygon fill=\"lightgrey\" stroke=\"black\" points=\"913.448,-931.006 913.448,-955.162 868.276,-972.242 804.392,-972.242 759.22,-955.162 759.22,-931.006 804.392,-913.926 868.276,-913.926 913.448,-931.006\"/>\n",
       "<polygon fill=\"none\" stroke=\"black\" points=\"917.439,-928.23 917.439,-957.937 869.002,-976.252 803.666,-976.252 755.229,-957.937 755.229,-928.23 803.666,-909.916 869.002,-909.916 917.439,-928.23\"/>\n",
       "<text text-anchor=\"middle\" x=\"836.334\" y=\"-946.884\" font-family=\"Times,serif\" font-size=\"14.00\" fill=\"white\">Done</text>\n",
       "<text text-anchor=\"middle\" x=\"836.334\" y=\"-931.884\" font-family=\"Times,serif\" font-size=\"14.00\" fill=\"white\">R$ = &#45;2,000.00</text>\n",
       "</g>\n",
       "<!-- ev3&#45;&gt;eg5 -->\n",
       "<g id=\"edge2\" class=\"edge\"><title>ev3&#45;&gt;eg5</title>\n",
       "<path fill=\"none\" stroke=\"lightgrey\" d=\"M615.156,-910.772C653.745,-916.435 702.993,-923.663 745.124,-929.845\"/>\n",
       "<polygon fill=\"lightgrey\" stroke=\"lightgrey\" points=\"744.708,-933.322 755.11,-931.311 745.724,-926.396 744.708,-933.322\"/>\n",
       "<text text-anchor=\"middle\" x=\"689.94\" y=\"-959.884\" font-family=\"Times,serif\" font-size=\"14.00\">20% loss</text>\n",
       "<text text-anchor=\"middle\" x=\"689.94\" y=\"-944.884\" font-family=\"Times,serif\" font-size=\"14.00\">$= 0.00</text>\n",
       "<text text-anchor=\"middle\" x=\"689.94\" y=\"-929.884\" font-family=\"Times,serif\" font-size=\"14.00\">(P= 40.0000%)</text>\n",
       "</g>\n",
       "<!-- eg6 -->\n",
       "<g id=\"node6\" class=\"node\"><title>eg6</title>\n",
       "<polygon fill=\"lightgrey\" stroke=\"black\" points=\"913.448,-847.006 913.448,-871.162 868.276,-888.242 804.392,-888.242 759.22,-871.162 759.22,-847.006 804.392,-829.926 868.276,-829.926 913.448,-847.006\"/>\n",
       "<polygon fill=\"none\" stroke=\"black\" points=\"917.439,-844.23 917.439,-873.937 869.002,-892.252 803.666,-892.252 755.229,-873.937 755.229,-844.23 803.666,-825.916 869.002,-825.916 917.439,-844.23\"/>\n",
       "<text text-anchor=\"middle\" x=\"836.334\" y=\"-862.884\" font-family=\"Times,serif\" font-size=\"14.00\" fill=\"white\">Done</text>\n",
       "<text text-anchor=\"middle\" x=\"836.334\" y=\"-847.884\" font-family=\"Times,serif\" font-size=\"14.00\" fill=\"white\">R$ = &#45;2,000.00</text>\n",
       "</g>\n",
       "<!-- ev3&#45;&gt;eg6 -->\n",
       "<g id=\"edge3\" class=\"edge\"><title>ev3&#45;&gt;eg6</title>\n",
       "<path fill=\"none\" stroke=\"lightgrey\" d=\"M596.321,-881C612.267,-875.104 630.36,-869.362 647.44,-866.084 678.834,-860.058 713.705,-857.618 744.798,-856.902\"/>\n",
       "<polygon fill=\"lightgrey\" stroke=\"lightgrey\" points=\"745.25,-860.395 755.188,-856.723 745.129,-853.396 745.25,-860.395\"/>\n",
       "<text text-anchor=\"middle\" x=\"689.94\" y=\"-899.884\" font-family=\"Times,serif\" font-size=\"14.00\">30% loss</text>\n",
       "<text text-anchor=\"middle\" x=\"689.94\" y=\"-884.884\" font-family=\"Times,serif\" font-size=\"14.00\">$= 0.00</text>\n",
       "<text text-anchor=\"middle\" x=\"689.94\" y=\"-869.884\" font-family=\"Times,serif\" font-size=\"14.00\">(P= 10.0000%)</text>\n",
       "</g>\n",
       "<!-- ev9 -->\n",
       "<g id=\"node9\" class=\"node\"><title>ev9</title>\n",
       "<ellipse fill=\"lightgrey\" stroke=\"black\" cx=\"548.138\" cy=\"-645.084\" rx=\"71.3357\" ry=\"26.7407\"/>\n",
       "<text text-anchor=\"middle\" x=\"548.138\" y=\"-648.884\" font-family=\"Times,serif\" font-size=\"14.00\" fill=\"white\">How Sick</text>\n",
       "<text text-anchor=\"middle\" x=\"548.138\" y=\"-633.884\" font-family=\"Times,serif\" font-size=\"14.00\" fill=\"white\">R$ = &#45;2,000.00</text>\n",
       "</g>\n",
       "<!-- ev8&#45;&gt;ev9 -->\n",
       "<g id=\"edge10\" class=\"edge\"><title>ev8&#45;&gt;ev9</title>\n",
       "<path fill=\"none\" stroke=\"lightgrey\" d=\"M334.871,-575.585C377.934,-589.685 438.578,-609.54 484.025,-624.42\"/>\n",
       "<polygon fill=\"lightgrey\" stroke=\"lightgrey\" points=\"483.178,-627.825 493.77,-627.611 485.356,-621.173 483.178,-627.825\"/>\n",
       "<text text-anchor=\"middle\" x=\"409.336\" y=\"-630.884\" font-family=\"Times,serif\" font-size=\"14.00\">Yes</text>\n",
       "<text text-anchor=\"middle\" x=\"409.336\" y=\"-615.884\" font-family=\"Times,serif\" font-size=\"14.00\">(P= 5.0000%)</text>\n",
       "</g>\n",
       "<!-- eg13 -->\n",
       "<g id=\"node13\" class=\"node\"><title>eg13</title>\n",
       "<polygon fill=\"lightgrey\" stroke=\"black\" points=\"625.252,-546.006 625.252,-570.162 580.079,-587.242 516.196,-587.242 471.023,-570.162 471.023,-546.006 516.196,-528.926 580.079,-528.926 625.252,-546.006\"/>\n",
       "<polygon fill=\"none\" stroke=\"black\" points=\"629.242,-543.23 629.242,-572.937 580.805,-591.252 515.47,-591.252 467.033,-572.937 467.033,-543.23 515.47,-524.916 580.805,-524.916 629.242,-543.23\"/>\n",
       "<text text-anchor=\"middle\" x=\"548.138\" y=\"-561.884\" font-family=\"Times,serif\" font-size=\"14.00\" fill=\"white\">Done</text>\n",
       "<text text-anchor=\"middle\" x=\"548.138\" y=\"-546.884\" font-family=\"Times,serif\" font-size=\"14.00\" fill=\"white\">R$ = &#45;1,500.00</text>\n",
       "</g>\n",
       "<!-- ev8&#45;&gt;eg13 -->\n",
       "<g id=\"edge11\" class=\"edge\"><title>ev8&#45;&gt;eg13</title>\n",
       "<path fill=\"none\" stroke=\"lightgrey\" d=\"M351.928,-558.084C384.114,-558.084 422.613,-558.084 456.883,-558.084\"/>\n",
       "<polygon fill=\"lightgrey\" stroke=\"lightgrey\" points=\"456.898,-561.584 466.898,-558.084 456.898,-554.584 456.898,-561.584\"/>\n",
       "<text text-anchor=\"middle\" x=\"409.336\" y=\"-561.884\" font-family=\"Times,serif\" font-size=\"14.00\">No</text>\n",
       "</g>\n",
       "<!-- eg10 -->\n",
       "<g id=\"node10\" class=\"node\"><title>eg10</title>\n",
       "<polygon fill=\"lightgrey\" stroke=\"black\" points=\"913.448,-763.006 913.448,-787.162 868.276,-804.242 804.392,-804.242 759.22,-787.162 759.22,-763.006 804.392,-745.926 868.276,-745.926 913.448,-763.006\"/>\n",
       "<polygon fill=\"none\" stroke=\"black\" points=\"917.439,-760.23 917.439,-789.937 869.002,-808.252 803.666,-808.252 755.229,-789.937 755.229,-760.23 803.666,-741.916 869.002,-741.916 917.439,-760.23\"/>\n",
       "<text text-anchor=\"middle\" x=\"836.334\" y=\"-778.884\" font-family=\"Times,serif\" font-size=\"14.00\" fill=\"white\">Done</text>\n",
       "<text text-anchor=\"middle\" x=\"836.334\" y=\"-763.884\" font-family=\"Times,serif\" font-size=\"14.00\" fill=\"white\">R$ = &#45;2,000.00</text>\n",
       "</g>\n",
       "<!-- ev9&#45;&gt;eg10 -->\n",
       "<g id=\"edge7\" class=\"edge\"><title>ev9&#45;&gt;eg10</title>\n",
       "<path fill=\"none\" stroke=\"lightgrey\" d=\"M577.303,-669.718C605.618,-694.441 645.382,-729.028 647.44,-730.084 677.597,-745.555 713.221,-755.824 745.298,-762.587\"/>\n",
       "<polygon fill=\"lightgrey\" stroke=\"lightgrey\" points=\"744.633,-766.023 755.129,-764.575 746.021,-759.162 744.633,-766.023\"/>\n",
       "<text text-anchor=\"middle\" x=\"689.94\" y=\"-793.884\" font-family=\"Times,serif\" font-size=\"14.00\">10% loss</text>\n",
       "<text text-anchor=\"middle\" x=\"689.94\" y=\"-778.884\" font-family=\"Times,serif\" font-size=\"14.00\">$= &#45;500.00</text>\n",
       "<text text-anchor=\"middle\" x=\"689.94\" y=\"-763.884\" font-family=\"Times,serif\" font-size=\"14.00\">(P= 50.0000%)</text>\n",
       "</g>\n",
       "<!-- eg11 -->\n",
       "<g id=\"node11\" class=\"node\"><title>eg11</title>\n",
       "<polygon fill=\"lightgrey\" stroke=\"black\" points=\"913.448,-679.006 913.448,-703.162 868.276,-720.242 804.392,-720.242 759.22,-703.162 759.22,-679.006 804.392,-661.926 868.276,-661.926 913.448,-679.006\"/>\n",
       "<polygon fill=\"none\" stroke=\"black\" points=\"917.439,-676.23 917.439,-705.937 869.002,-724.252 803.666,-724.252 755.229,-705.937 755.229,-676.23 803.666,-657.916 869.002,-657.916 917.439,-676.23\"/>\n",
       "<text text-anchor=\"middle\" x=\"836.334\" y=\"-694.884\" font-family=\"Times,serif\" font-size=\"14.00\" fill=\"white\">Done</text>\n",
       "<text text-anchor=\"middle\" x=\"836.334\" y=\"-679.884\" font-family=\"Times,serif\" font-size=\"14.00\" fill=\"white\">R$ = &#45;2,000.00</text>\n",
       "</g>\n",
       "<!-- ev9&#45;&gt;eg11 -->\n",
       "<g id=\"edge8\" class=\"edge\"><title>ev9&#45;&gt;eg11</title>\n",
       "<path fill=\"none\" stroke=\"lightgrey\" d=\"M606.843,-660.425C620.113,-663.604 634.213,-666.704 647.44,-669.084 678.95,-674.753 713.707,-679.295 744.669,-682.745\"/>\n",
       "<polygon fill=\"lightgrey\" stroke=\"lightgrey\" points=\"744.693,-686.269 755.013,-683.874 745.452,-679.31 744.693,-686.269\"/>\n",
       "<text text-anchor=\"middle\" x=\"689.94\" y=\"-714.884\" font-family=\"Times,serif\" font-size=\"14.00\">20% loss</text>\n",
       "<text text-anchor=\"middle\" x=\"689.94\" y=\"-699.884\" font-family=\"Times,serif\" font-size=\"14.00\">$= &#45;500.00</text>\n",
       "<text text-anchor=\"middle\" x=\"689.94\" y=\"-684.884\" font-family=\"Times,serif\" font-size=\"14.00\">(P= 40.0000%)</text>\n",
       "</g>\n",
       "<!-- eg12 -->\n",
       "<g id=\"node12\" class=\"node\"><title>eg12</title>\n",
       "<polygon fill=\"lightgrey\" stroke=\"black\" points=\"913.448,-595.006 913.448,-619.162 868.276,-636.242 804.392,-636.242 759.22,-619.162 759.22,-595.006 804.392,-577.926 868.276,-577.926 913.448,-595.006\"/>\n",
       "<polygon fill=\"none\" stroke=\"black\" points=\"917.439,-592.23 917.439,-621.937 869.002,-640.252 803.666,-640.252 755.229,-621.937 755.229,-592.23 803.666,-573.916 869.002,-573.916 917.439,-592.23\"/>\n",
       "<text text-anchor=\"middle\" x=\"836.334\" y=\"-610.884\" font-family=\"Times,serif\" font-size=\"14.00\" fill=\"white\">Done</text>\n",
       "<text text-anchor=\"middle\" x=\"836.334\" y=\"-595.884\" font-family=\"Times,serif\" font-size=\"14.00\" fill=\"white\">R$ = &#45;2,000.00</text>\n",
       "</g>\n",
       "<!-- ev9&#45;&gt;eg12 -->\n",
       "<g id=\"edge9\" class=\"edge\"><title>ev9&#45;&gt;eg12</title>\n",
       "<path fill=\"none\" stroke=\"lightgrey\" d=\"M609.232,-631.05C621.805,-628.45 635.016,-625.966 647.44,-624.084 679.008,-619.302 713.779,-615.696 744.736,-613.065\"/>\n",
       "<polygon fill=\"lightgrey\" stroke=\"lightgrey\" points=\"745.401,-616.522 755.078,-612.21 744.824,-609.546 745.401,-616.522\"/>\n",
       "<text text-anchor=\"middle\" x=\"689.94\" y=\"-657.884\" font-family=\"Times,serif\" font-size=\"14.00\">30% loss</text>\n",
       "<text text-anchor=\"middle\" x=\"689.94\" y=\"-642.884\" font-family=\"Times,serif\" font-size=\"14.00\">$= &#45;500.00</text>\n",
       "<text text-anchor=\"middle\" x=\"689.94\" y=\"-627.884\" font-family=\"Times,serif\" font-size=\"14.00\">(P= 10.0000%)</text>\n",
       "</g>\n",
       "<!-- ev15 -->\n",
       "<g id=\"node15\" class=\"node\"><title>ev15</title>\n",
       "<ellipse fill=\"red\" stroke=\"black\" cx=\"548.138\" cy=\"-427.084\" rx=\"71.3357\" ry=\"26.7407\"/>\n",
       "<text text-anchor=\"middle\" x=\"548.138\" y=\"-430.884\" font-family=\"Times,serif\" font-size=\"14.00\" fill=\"white\">How Sick</text>\n",
       "<text text-anchor=\"middle\" x=\"548.138\" y=\"-415.884\" font-family=\"Times,serif\" font-size=\"14.00\" fill=\"white\">R$ = &#45;9,000.00</text>\n",
       "</g>\n",
       "<!-- ev14&#45;&gt;ev15 -->\n",
       "<g id=\"edge16\" class=\"edge\"><title>ev14&#45;&gt;ev15</title>\n",
       "<path fill=\"none\" stroke=\"black\" d=\"M351.928,-427.084C387.063,-427.084 429.721,-427.084 466.188,-427.084\"/>\n",
       "<polygon fill=\"black\" stroke=\"black\" points=\"466.298,-430.584 476.298,-427.084 466.298,-423.584 466.298,-430.584\"/>\n",
       "<text text-anchor=\"middle\" x=\"409.336\" y=\"-445.884\" font-family=\"Times,serif\" font-size=\"14.00\">Yes</text>\n",
       "<text text-anchor=\"middle\" x=\"409.336\" y=\"-430.884\" font-family=\"Times,serif\" font-size=\"14.00\">(P= 5.0000%)</text>\n",
       "</g>\n",
       "<!-- eg19 -->\n",
       "<g id=\"node19\" class=\"node\"><title>eg19</title>\n",
       "<polygon fill=\"blue\" stroke=\"black\" points=\"625.252,-321.257 625.252,-354.911 580.079,-378.707 516.196,-378.707 471.023,-354.911 471.023,-321.257 516.196,-297.461 580.079,-297.461 625.252,-321.257\"/>\n",
       "<polygon fill=\"none\" stroke=\"black\" points=\"629.242,-318.835 629.242,-357.332 581.063,-382.713 515.212,-382.713 467.033,-357.332 467.033,-318.835 515.212,-293.455 581.063,-293.455 629.242,-318.835\"/>\n",
       "<text text-anchor=\"middle\" x=\"548.138\" y=\"-349.384\" font-family=\"Times,serif\" font-size=\"14.00\" fill=\"white\">Done</text>\n",
       "<text text-anchor=\"middle\" x=\"548.138\" y=\"-334.384\" font-family=\"Times,serif\" font-size=\"14.00\" fill=\"white\">R$ = &#45;1,000.00</text>\n",
       "<text text-anchor=\"middle\" x=\"548.138\" y=\"-319.384\" font-family=\"Times,serif\" font-size=\"14.00\" fill=\"white\">(P= 95.00%)</text>\n",
       "</g>\n",
       "<!-- ev14&#45;&gt;eg19 -->\n",
       "<g id=\"edge17\" class=\"edge\"><title>ev14&#45;&gt;eg19</title>\n",
       "<path fill=\"none\" stroke=\"black\" d=\"M334.233,-409.394C371.943,-396.763 423.37,-379.539 466.233,-365.182\"/>\n",
       "<polygon fill=\"black\" stroke=\"black\" points=\"467.431,-368.472 475.801,-361.977 465.207,-361.835 467.431,-368.472\"/>\n",
       "<text text-anchor=\"middle\" x=\"409.336\" y=\"-399.884\" font-family=\"Times,serif\" font-size=\"14.00\">No</text>\n",
       "</g>\n",
       "<!-- eg16 -->\n",
       "<g id=\"node16\" class=\"node\"><title>eg16</title>\n",
       "<polygon fill=\"blue\" stroke=\"black\" points=\"913.448,-494.257 913.448,-527.911 868.276,-551.707 804.392,-551.707 759.22,-527.911 759.22,-494.257 804.392,-470.461 868.276,-470.461 913.448,-494.257\"/>\n",
       "<polygon fill=\"none\" stroke=\"black\" points=\"917.439,-491.835 917.439,-530.332 869.259,-555.713 803.409,-555.713 755.229,-530.332 755.229,-491.835 803.409,-466.455 869.259,-466.455 917.439,-491.835\"/>\n",
       "<text text-anchor=\"middle\" x=\"836.334\" y=\"-522.384\" font-family=\"Times,serif\" font-size=\"14.00\" fill=\"white\">Done</text>\n",
       "<text text-anchor=\"middle\" x=\"836.334\" y=\"-507.384\" font-family=\"Times,serif\" font-size=\"14.00\" fill=\"white\">R$ = &#45;6,000.00</text>\n",
       "<text text-anchor=\"middle\" x=\"836.334\" y=\"-492.384\" font-family=\"Times,serif\" font-size=\"14.00\" fill=\"white\">(P= 2.50%)</text>\n",
       "</g>\n",
       "<!-- ev15&#45;&gt;eg16 -->\n",
       "<g id=\"edge13\" class=\"edge\"><title>ev15&#45;&gt;eg16</title>\n",
       "<path fill=\"none\" stroke=\"black\" d=\"M594.05,-447.707C610.601,-454.802 629.654,-462.386 647.44,-468.084 678.784,-478.126 713.778,-486.799 744.991,-493.673\"/>\n",
       "<polygon fill=\"black\" stroke=\"black\" points=\"744.468,-497.141 754.983,-495.841 745.952,-490.3 744.468,-497.141\"/>\n",
       "<text text-anchor=\"middle\" x=\"689.94\" y=\"-523.884\" font-family=\"Times,serif\" font-size=\"14.00\">10% loss</text>\n",
       "<text text-anchor=\"middle\" x=\"689.94\" y=\"-508.884\" font-family=\"Times,serif\" font-size=\"14.00\">$= &#45;5,000.00</text>\n",
       "<text text-anchor=\"middle\" x=\"689.94\" y=\"-493.884\" font-family=\"Times,serif\" font-size=\"14.00\">(P= 50.0000%)</text>\n",
       "</g>\n",
       "<!-- eg17 -->\n",
       "<g id=\"node17\" class=\"node\"><title>eg17</title>\n",
       "<polygon fill=\"blue\" stroke=\"black\" points=\"918.127,-387.257 918.127,-420.911 870.214,-444.707 802.454,-444.707 754.54,-420.911 754.54,-387.257 802.454,-363.461 870.214,-363.461 918.127,-387.257\"/>\n",
       "<polygon fill=\"none\" stroke=\"black\" points=\"922.123,-384.771 922.123,-423.397 871.149,-448.713 801.519,-448.713 750.545,-423.397 750.545,-384.771 801.519,-359.455 871.149,-359.455 922.123,-384.771\"/>\n",
       "<text text-anchor=\"middle\" x=\"836.334\" y=\"-415.384\" font-family=\"Times,serif\" font-size=\"14.00\" fill=\"white\">Done</text>\n",
       "<text text-anchor=\"middle\" x=\"836.334\" y=\"-400.384\" font-family=\"Times,serif\" font-size=\"14.00\" fill=\"white\">R$ = &#45;11,000.00</text>\n",
       "<text text-anchor=\"middle\" x=\"836.334\" y=\"-385.384\" font-family=\"Times,serif\" font-size=\"14.00\" fill=\"white\">(P= 2.00%)</text>\n",
       "</g>\n",
       "<!-- ev15&#45;&gt;eg17 -->\n",
       "<g id=\"edge14\" class=\"edge\"><title>ev15&#45;&gt;eg17</title>\n",
       "<path fill=\"none\" stroke=\"black\" d=\"M618.053,-421.546C654.724,-418.599 700.379,-414.929 740.361,-411.716\"/>\n",
       "<polygon fill=\"black\" stroke=\"black\" points=\"740.708,-415.2 750.395,-410.91 740.147,-408.222 740.708,-415.2\"/>\n",
       "<text text-anchor=\"middle\" x=\"689.94\" y=\"-452.884\" font-family=\"Times,serif\" font-size=\"14.00\">20% loss</text>\n",
       "<text text-anchor=\"middle\" x=\"689.94\" y=\"-437.884\" font-family=\"Times,serif\" font-size=\"14.00\">$= &#45;10,000.00</text>\n",
       "<text text-anchor=\"middle\" x=\"689.94\" y=\"-422.884\" font-family=\"Times,serif\" font-size=\"14.00\">(P= 40.0000%)</text>\n",
       "</g>\n",
       "<!-- eg18 -->\n",
       "<g id=\"node18\" class=\"node\"><title>eg18</title>\n",
       "<polygon fill=\"blue\" stroke=\"black\" points=\"918.127,-280.257 918.127,-313.911 870.214,-337.707 802.454,-337.707 754.54,-313.911 754.54,-280.257 802.454,-256.461 870.214,-256.461 918.127,-280.257\"/>\n",
       "<polygon fill=\"none\" stroke=\"black\" points=\"922.123,-277.771 922.123,-316.397 871.149,-341.713 801.519,-341.713 750.545,-316.397 750.545,-277.771 801.519,-252.455 871.149,-252.455 922.123,-277.771\"/>\n",
       "<text text-anchor=\"middle\" x=\"836.334\" y=\"-308.384\" font-family=\"Times,serif\" font-size=\"14.00\" fill=\"white\">Done</text>\n",
       "<text text-anchor=\"middle\" x=\"836.334\" y=\"-293.384\" font-family=\"Times,serif\" font-size=\"14.00\" fill=\"white\">R$ = &#45;16,000.00</text>\n",
       "<text text-anchor=\"middle\" x=\"836.334\" y=\"-278.384\" font-family=\"Times,serif\" font-size=\"14.00\" fill=\"white\">(P= 0.50%)</text>\n",
       "</g>\n",
       "<!-- ev15&#45;&gt;eg18 -->\n",
       "<g id=\"edge15\" class=\"edge\"><title>ev15&#45;&gt;eg18</title>\n",
       "<path fill=\"none\" stroke=\"black\" d=\"M602.293,-409.23C611.933,-404.564 621.449,-398.886 629.44,-392.084 640.705,-382.494 635.853,-373.282 647.44,-364.084 674.356,-342.716 708.638,-327.846 740.531,-317.648\"/>\n",
       "<polygon fill=\"black\" stroke=\"black\" points=\"741.812,-320.916 750.341,-314.631 739.754,-314.225 741.812,-320.916\"/>\n",
       "<text text-anchor=\"middle\" x=\"689.94\" y=\"-397.884\" font-family=\"Times,serif\" font-size=\"14.00\">30% loss</text>\n",
       "<text text-anchor=\"middle\" x=\"689.94\" y=\"-382.884\" font-family=\"Times,serif\" font-size=\"14.00\">$= &#45;15,000.00</text>\n",
       "<text text-anchor=\"middle\" x=\"689.94\" y=\"-367.884\" font-family=\"Times,serif\" font-size=\"14.00\">(P= 10.0000%)</text>\n",
       "</g>\n",
       "<!-- ev21 -->\n",
       "<g id=\"node21\" class=\"node\"><title>ev21</title>\n",
       "<ellipse fill=\"lightgrey\" stroke=\"black\" cx=\"548.138\" cy=\"-159.084\" rx=\"75.8212\" ry=\"26.7407\"/>\n",
       "<text text-anchor=\"middle\" x=\"548.138\" y=\"-162.884\" font-family=\"Times,serif\" font-size=\"14.00\" fill=\"white\">How Sick</text>\n",
       "<text text-anchor=\"middle\" x=\"548.138\" y=\"-147.884\" font-family=\"Times,serif\" font-size=\"14.00\" fill=\"white\">R$ = &#45;32,000.00</text>\n",
       "</g>\n",
       "<!-- ev20&#45;&gt;ev21 -->\n",
       "<g id=\"edge22\" class=\"edge\"><title>ev20&#45;&gt;ev21</title>\n",
       "<path fill=\"none\" stroke=\"lightgrey\" d=\"M351.928,-159.084C385.653,-159.084 426.31,-159.084 461.77,-159.084\"/>\n",
       "<polygon fill=\"lightgrey\" stroke=\"lightgrey\" points=\"462.107,-162.584 472.107,-159.084 462.107,-155.584 462.107,-162.584\"/>\n",
       "<text text-anchor=\"middle\" x=\"409.336\" y=\"-177.884\" font-family=\"Times,serif\" font-size=\"14.00\">Yes</text>\n",
       "<text text-anchor=\"middle\" x=\"409.336\" y=\"-162.884\" font-family=\"Times,serif\" font-size=\"14.00\">(P= 5.0000%)</text>\n",
       "</g>\n",
       "<!-- eg25 -->\n",
       "<g id=\"node25\" class=\"node\"><title>eg25</title>\n",
       "<polygon fill=\"lightgrey\" stroke=\"black\" points=\"603.343,-69.0063 603.343,-93.1615 571.005,-110.242 525.271,-110.242 492.932,-93.1615 492.932,-69.0063 525.271,-51.926 571.005,-51.926 603.343,-69.0063\"/>\n",
       "<polygon fill=\"none\" stroke=\"black\" points=\"607.351,-66.5884 607.351,-95.5795 571.997,-114.252 524.278,-114.252 488.925,-95.5795 488.925,-66.5884 524.278,-47.9158 571.997,-47.9158 607.351,-66.5884\"/>\n",
       "<text text-anchor=\"middle\" x=\"548.138\" y=\"-84.8839\" font-family=\"Times,serif\" font-size=\"14.00\" fill=\"white\">Done</text>\n",
       "<text text-anchor=\"middle\" x=\"548.138\" y=\"-69.8839\" font-family=\"Times,serif\" font-size=\"14.00\" fill=\"white\">R$ = 0.00</text>\n",
       "</g>\n",
       "<!-- ev20&#45;&gt;eg25 -->\n",
       "<g id=\"edge23\" class=\"edge\"><title>ev20&#45;&gt;eg25</title>\n",
       "<path fill=\"none\" stroke=\"lightgrey\" d=\"M337.121,-142.733C379.425,-130.315 437.699,-113.209 482.132,-100.166\"/>\n",
       "<polygon fill=\"lightgrey\" stroke=\"lightgrey\" points=\"483.354,-103.455 491.963,-97.28 481.382,-96.7383 483.354,-103.455\"/>\n",
       "<text text-anchor=\"middle\" x=\"409.336\" y=\"-135.884\" font-family=\"Times,serif\" font-size=\"14.00\">No</text>\n",
       "</g>\n",
       "<!-- eg22 -->\n",
       "<g id=\"node22\" class=\"node\"><title>eg22</title>\n",
       "<polygon fill=\"lightgrey\" stroke=\"black\" points=\"918.127,-189.006 918.127,-213.162 870.214,-230.242 802.454,-230.242 754.54,-213.162 754.54,-189.006 802.454,-171.926 870.214,-171.926 918.127,-189.006\"/>\n",
       "<polygon fill=\"none\" stroke=\"black\" points=\"922.123,-186.175 922.123,-215.993 870.902,-234.252 801.766,-234.252 750.545,-215.993 750.545,-186.175 801.766,-167.916 870.902,-167.916 922.123,-186.175\"/>\n",
       "<text text-anchor=\"middle\" x=\"836.334\" y=\"-204.884\" font-family=\"Times,serif\" font-size=\"14.00\" fill=\"white\">Done</text>\n",
       "<text text-anchor=\"middle\" x=\"836.334\" y=\"-189.884\" font-family=\"Times,serif\" font-size=\"14.00\" fill=\"white\">R$ = &#45;20,000.00</text>\n",
       "</g>\n",
       "<!-- ev21&#45;&gt;eg22 -->\n",
       "<g id=\"edge19\" class=\"edge\"><title>ev21&#45;&gt;eg22</title>\n",
       "<path fill=\"none\" stroke=\"lightgrey\" d=\"M618.418,-169.251C655.019,-174.622 700.494,-181.296 740.338,-187.143\"/>\n",
       "<polygon fill=\"lightgrey\" stroke=\"lightgrey\" points=\"739.935,-190.621 750.337,-188.61 740.951,-183.695 739.935,-190.621\"/>\n",
       "<text text-anchor=\"middle\" x=\"689.94\" y=\"-218.884\" font-family=\"Times,serif\" font-size=\"14.00\">10% loss</text>\n",
       "<text text-anchor=\"middle\" x=\"689.94\" y=\"-203.884\" font-family=\"Times,serif\" font-size=\"14.00\">$= &#45;20,000.00</text>\n",
       "<text text-anchor=\"middle\" x=\"689.94\" y=\"-188.884\" font-family=\"Times,serif\" font-size=\"14.00\">(P= 50.0000%)</text>\n",
       "</g>\n",
       "<!-- eg23 -->\n",
       "<g id=\"node23\" class=\"node\"><title>eg23</title>\n",
       "<polygon fill=\"lightgrey\" stroke=\"black\" points=\"918.127,-105.006 918.127,-129.162 870.214,-146.242 802.454,-146.242 754.54,-129.162 754.54,-105.006 802.454,-87.926 870.214,-87.926 918.127,-105.006\"/>\n",
       "<polygon fill=\"none\" stroke=\"black\" points=\"922.123,-102.175 922.123,-131.993 870.902,-150.252 801.766,-150.252 750.545,-131.993 750.545,-102.175 801.766,-83.9158 870.902,-83.9158 922.123,-102.175\"/>\n",
       "<text text-anchor=\"middle\" x=\"836.334\" y=\"-120.884\" font-family=\"Times,serif\" font-size=\"14.00\" fill=\"white\">Done</text>\n",
       "<text text-anchor=\"middle\" x=\"836.334\" y=\"-105.884\" font-family=\"Times,serif\" font-size=\"14.00\" fill=\"white\">R$ = &#45;40,000.00</text>\n",
       "</g>\n",
       "<!-- ev21&#45;&gt;eg23 -->\n",
       "<g id=\"edge20\" class=\"edge\"><title>ev21&#45;&gt;eg23</title>\n",
       "<path fill=\"none\" stroke=\"lightgrey\" d=\"M598.382,-138.919C613.832,-133.449 631.118,-128.185 647.44,-125.084 677.267,-119.416 710.216,-116.811 740.084,-115.79\"/>\n",
       "<polygon fill=\"lightgrey\" stroke=\"lightgrey\" points=\"740.191,-119.289 750.086,-115.503 739.99,-112.292 740.191,-119.289\"/>\n",
       "<text text-anchor=\"middle\" x=\"689.94\" y=\"-158.884\" font-family=\"Times,serif\" font-size=\"14.00\">20% loss</text>\n",
       "<text text-anchor=\"middle\" x=\"689.94\" y=\"-143.884\" font-family=\"Times,serif\" font-size=\"14.00\">$= &#45;40,000.00</text>\n",
       "<text text-anchor=\"middle\" x=\"689.94\" y=\"-128.884\" font-family=\"Times,serif\" font-size=\"14.00\">(P= 40.0000%)</text>\n",
       "</g>\n",
       "<!-- eg24 -->\n",
       "<g id=\"node24\" class=\"node\"><title>eg24</title>\n",
       "<polygon fill=\"lightgrey\" stroke=\"black\" points=\"918.127,-21.0063 918.127,-45.1615 870.214,-62.2419 802.454,-62.2419 754.54,-45.1615 754.54,-21.0063 802.454,-3.92602 870.214,-3.92602 918.127,-21.0063\"/>\n",
       "<polygon fill=\"none\" stroke=\"black\" points=\"922.123,-18.175 922.123,-47.9929 870.902,-66.252 801.766,-66.252 750.545,-47.9929 750.545,-18.175 801.766,0.0841544 870.902,0.0841544 922.123,-18.175\"/>\n",
       "<text text-anchor=\"middle\" x=\"836.334\" y=\"-36.8839\" font-family=\"Times,serif\" font-size=\"14.00\" fill=\"white\">Done</text>\n",
       "<text text-anchor=\"middle\" x=\"836.334\" y=\"-21.8839\" font-family=\"Times,serif\" font-size=\"14.00\" fill=\"white\">R$ = &#45;60,000.00</text>\n",
       "</g>\n",
       "<!-- ev21&#45;&gt;eg24 -->\n",
       "<g id=\"edge21\" class=\"edge\"><title>ev21&#45;&gt;eg24</title>\n",
       "<path fill=\"none\" stroke=\"lightgrey\" d=\"M605.444,-141.195C614.35,-136.419 622.796,-130.465 629.44,-123.084 646.646,-103.966 628.092,-85.0307 647.44,-68.0839 672.775,-45.8931 707.557,-35.7969 740.312,-31.693\"/>\n",
       "<polygon fill=\"lightgrey\" stroke=\"lightgrey\" points=\"740.833,-35.1573 750.4,-30.6051 740.082,-28.1976 740.833,-35.1573\"/>\n",
       "<text text-anchor=\"middle\" x=\"689.94\" y=\"-101.884\" font-family=\"Times,serif\" font-size=\"14.00\">30% loss</text>\n",
       "<text text-anchor=\"middle\" x=\"689.94\" y=\"-86.8839\" font-family=\"Times,serif\" font-size=\"14.00\">$= &#45;60,000.00</text>\n",
       "<text text-anchor=\"middle\" x=\"689.94\" y=\"-71.8839\" font-family=\"Times,serif\" font-size=\"14.00\">(P= 10.0000%)</text>\n",
       "</g>\n",
       "</g>\n",
       "</svg>\n"
      ],
      "text/plain": [
       "<graphviz.files.Source at 0x7f327a27f358>"
      ]
     },
     "execution_count": 12,
     "metadata": {},
     "output_type": "execute_result"
    }
   ],
   "source": [
    "eng = GraphvizEngine(whatPolicy)\n",
    "graph = eng.render(\"svg\")\n",
    "\n",
    "graphviz.Source(graph)"
   ]
  },
  {
   "cell_type": "markdown",
   "metadata": {},
   "source": [
    "# Extracting Specific Values\n",
    "\n",
    "For a specific decision node, a helper function will allow getting a list of alternatives, reduced payouts and margins to the chosen transition."
   ]
  },
  {
   "cell_type": "code",
   "execution_count": 13,
   "metadata": {},
   "outputs": [
    {
     "name": "stdout",
     "output_type": "stream",
     "text": [
      "The best policy is Risk It with an expected cost of 1,400.00 $\n",
      "\n",
      "Other Options:\n",
      "    Be Immortal : 1,525.00 $ (margin: 125.00 $)\n",
      "    Nothing     : 1,600.00 $ (margin: 200.00 $)\n",
      "    Stayin Alive: 2,000.00 $ (margin: 600.00 $)\n"
     ]
    }
   ],
   "source": [
    "print(\"The best policy is {} with an expected cost of {:,.2f} $\".format(\n",
    "    whatPolicy.results.choice.name, -whatPolicy.results.reducedPayout))\n",
    "\n",
    "print()\n",
    "print(\"Other Options:\")\n",
    "\n",
    "otherOptions = [t for t in whatPolicy.transitions \n",
    "                if t is not whatPolicy.results.choice]\n",
    "otherOptions = sorted(otherOptions, \n",
    "                      key=lambda t: t.target.results.reducedPayout, \n",
    "                      reverse=True)\n",
    "for op in otherOptions:\n",
    "    print(\"    {:12}: {:-,.2f} $ (margin: {:-,.2f} $)\".format(\n",
    "        op.name, -op.target.results.reducedPayout,\n",
    "        whatPolicy.results.reducedPayout - op.target.results.reducedPayout\n",
    "    ))"
   ]
  },
  {
   "cell_type": "markdown",
   "metadata": {},
   "source": [
    "## Outcomes and Probabilities (Distribution)\n",
    "\n",
    "A helper function gives the same output. For the sake of simplicity, in this case, I did not recombine equivalent end games in the data frame, as there is no need. The helper function does it, as it is more convenient."
   ]
  },
  {
   "cell_type": "code",
   "execution_count": 14,
   "metadata": {},
   "outputs": [
    {
     "data": {
      "text/plain": [
       "<matplotlib.axes._subplots.AxesSubplot at 0x7f327a29a320>"
      ]
     },
     "execution_count": 14,
     "metadata": {},
     "output_type": "execute_result"
    },
    {
     "data": {
      "image/png": "[encoded data removed]",
      "text/plain": [
       "<matplotlib.figure.Figure at 0x7f327a2832e8>"
      ]
     },
     "metadata": {},
     "output_type": "display_data"
    }
   ],
   "source": [
    "endGames = (n for n in whatPolicy.getNodesFlat() \n",
    "            if isinstance(n, EndGame) \n",
    "            and hasattr(n.results, \"probability\"))\n",
    "possibilities = [(eg.results.probability, eg.results.reducedPayout) \n",
    "                 for eg in endGames]\n",
    "\n",
    "df = pd.DataFrame(possibilities, columns=\"prob payout\".split())\n",
    "\n",
    "sb.barplot(\"payout\", \"prob\", data=df)"
   ]
  },
  {
   "cell_type": "markdown",
   "metadata": {},
   "source": [
    "# Simulation for Different Probabilities of Being Sick"
   ]
  },
  {
   "cell_type": "markdown",
   "metadata": {},
   "source": [
    "## Generating a Tree\n",
    "\n",
    "This is a low processing example so I build a tree adapted to the parameters of every iteration.\n",
    "\n",
    "Should the probel be bigger and performance matter, it would be faster to simply modify the probability of the target transitions and re-solve the tree. The easiest way to do that would be to keep a reference of these transitions as they are built, but it is also possible to \"walk\" the tree and locate them afterward.\n",
    "\n",
    "As a note, I am re-coding a lot of things for the sake of this demonstration, but you might notice that the entire tree is built and solved as part of the following function."
   ]
  },
  {
   "cell_type": "code",
   "execution_count": 15,
   "metadata": {},
   "outputs": [],
   "source": [
    "strategy = createMaxExpected()\n",
    "\n",
    "def resolveForSickProb(pSick):\n",
    "    def fallingSick(policy):\n",
    "        costFunction = policy[2]\n",
    "\n",
    "        howSick = Event(\"Get Sick\")\n",
    "\n",
    "        for l, p in LEVELS_PROBS:\n",
    "            cost = LIFE * l\n",
    "            costAfterPolicy = costFunction(cost)\n",
    "            howSick.transitions.append(\n",
    "                Transition(\"{:.0%} loss\".format(l), \n",
    "                           probability=p, payout=-costAfterPolicy))\n",
    "\n",
    "        return Event(\"Get Sick ?\", (\n",
    "            Transition(\"Yes\", probability=pSick, target=howSick),\n",
    "            Transition(\"No\")))\n",
    "\n",
    "    whatPolicy = Decision(\"What Policy ?\")\n",
    "    for pol in POLICIES:\n",
    "        name, cost, costFunction = pol\n",
    "        whatPolicy.transitions.append(\n",
    "            Transition(name, -cost, target=fallingSick(pol)))\n",
    "\n",
    "    whatPolicy.createPlaceholders()\n",
    "    whatPolicy.propagatePayouts(0)\n",
    "    whatPolicy.computePossibilities(strategy)\n",
    "    whatPolicy.propagateEndgameDistribution(1)\n",
    "    \n",
    "    bestPolicy = whatPolicy.results.choice.name\n",
    "    bestCost = whatPolicy.results.reducedPayout\n",
    "    costs= [t.target.results.reducedPayout for t in whatPolicy.transitions]\n",
    "    \n",
    "    return (bestPolicy, bestCost, *costs)"
   ]
  },
  {
   "cell_type": "code",
   "execution_count": 16,
   "metadata": {},
   "outputs": [],
   "source": [
    "## Evaluating for Probabilities between 0% and 100%"
   ]
  },
  {
   "cell_type": "code",
   "execution_count": 17,
   "metadata": {},
   "outputs": [
    {
     "data": {
      "text/html": [
       "<div>\n",
       "<style scoped>\n",
       "    .dataframe tbody tr th:only-of-type {\n",
       "        vertical-align: middle;\n",
       "    }\n",
       "\n",
       "    .dataframe tbody tr th {\n",
       "        vertical-align: top;\n",
       "    }\n",
       "\n",
       "    .dataframe thead th {\n",
       "        text-align: right;\n",
       "    }\n",
       "</style>\n",
       "<table border=\"1\" class=\"dataframe\">\n",
       "  <thead>\n",
       "    <tr style=\"text-align: right;\">\n",
       "      <th></th>\n",
       "      <th>prob</th>\n",
       "      <th>best</th>\n",
       "      <th>cost</th>\n",
       "      <th>Stayin Alive</th>\n",
       "      <th>Be Immortal</th>\n",
       "      <th>Risk It</th>\n",
       "      <th>Nothing</th>\n",
       "    </tr>\n",
       "  </thead>\n",
       "  <tbody>\n",
       "    <tr>\n",
       "      <th>0</th>\n",
       "      <td>0.000000</td>\n",
       "      <td>Nothing</td>\n",
       "      <td>0.000000</td>\n",
       "      <td>-2000.0</td>\n",
       "      <td>-1500.000000</td>\n",
       "      <td>-1000.000000</td>\n",
       "      <td>0.000000</td>\n",
       "    </tr>\n",
       "    <tr>\n",
       "      <th>1</th>\n",
       "      <td>0.001001</td>\n",
       "      <td>Nothing</td>\n",
       "      <td>-32.032032</td>\n",
       "      <td>-2000.0</td>\n",
       "      <td>-1500.500501</td>\n",
       "      <td>-1008.008008</td>\n",
       "      <td>-32.032032</td>\n",
       "    </tr>\n",
       "    <tr>\n",
       "      <th>2</th>\n",
       "      <td>0.002002</td>\n",
       "      <td>Nothing</td>\n",
       "      <td>-64.064064</td>\n",
       "      <td>-2000.0</td>\n",
       "      <td>-1501.001001</td>\n",
       "      <td>-1016.016016</td>\n",
       "      <td>-64.064064</td>\n",
       "    </tr>\n",
       "    <tr>\n",
       "      <th>3</th>\n",
       "      <td>0.003003</td>\n",
       "      <td>Nothing</td>\n",
       "      <td>-96.096096</td>\n",
       "      <td>-2000.0</td>\n",
       "      <td>-1501.501502</td>\n",
       "      <td>-1024.024024</td>\n",
       "      <td>-96.096096</td>\n",
       "    </tr>\n",
       "  </tbody>\n",
       "</table>\n",
       "</div>"
      ],
      "text/plain": [
       "       prob     best       cost  Stayin Alive  Be Immortal      Risk It  \\\n",
       "0  0.000000  Nothing   0.000000       -2000.0 -1500.000000 -1000.000000   \n",
       "1  0.001001  Nothing -32.032032       -2000.0 -1500.500501 -1008.008008   \n",
       "2  0.002002  Nothing -64.064064       -2000.0 -1501.001001 -1016.016016   \n",
       "3  0.003003  Nothing -96.096096       -2000.0 -1501.501502 -1024.024024   \n",
       "\n",
       "     Nothing  \n",
       "0   0.000000  \n",
       "1 -32.032032  \n",
       "2 -64.064064  \n",
       "3 -96.096096  "
      ]
     },
     "execution_count": 17,
     "metadata": {},
     "output_type": "execute_result"
    }
   ],
   "source": [
    "probs = np.linspace(0,1, 1000)\n",
    "names = [t.name for t in whatPolicy.transitions]\n",
    "df = pd.DataFrame([(p, *resolveForSickProb(p)) \n",
    "                   for p in probs], \n",
    "                  columns=(\"prob\", \"best\", \"cost\", *names))\n",
    "df.head(4)"
   ]
  },
  {
   "cell_type": "markdown",
   "metadata": {},
   "source": [
    "## Visualizing the Costs for Different Probabilities"
   ]
  },
  {
   "cell_type": "code",
   "execution_count": 18,
   "metadata": {},
   "outputs": [
    {
     "name": "stderr",
     "output_type": "stream",
     "text": [
      "/opt/anaconda3/lib/python3.6/site-packages/pandas/plotting/_core.py:1716: UserWarning: Pandas doesn't allow columns to be created via a new attribute name - see https://pandas.pydata.org/pandas-docs/stable/indexing.html#attribute-access\n",
      "  series.name = label\n",
      "/opt/anaconda3/lib/python3.6/site-packages/pandas/plotting/_core.py:1716: UserWarning: Pandas doesn't allow columns to be created via a new attribute name - see https://pandas.pydata.org/pandas-docs/stable/indexing.html#attribute-access\n",
      "  series.name = label\n"
     ]
    },
    {
     "data": {
      "image/png": "[encoded data removed]",
      "text/plain": [
       "<matplotlib.figure.Figure at 0x7f32722962b0>"
      ]
     },
     "metadata": {},
     "output_type": "display_data"
    }
   ],
   "source": [
    "names = sorted(names)\n",
    "\n",
    "df2 = df.drop(\"cost\", axis=1)\n",
    "\n",
    "fig, axs = plt.subplots(2,2, sharey=True, figsize=(12,6))\n",
    "#fig.suptitle(\"Policy comparisson\")\n",
    "\n",
    "def graphs(c, p, title):\n",
    "    ax = axs[0][c]\n",
    "    df2[df2.prob <= p].plot(x=\"prob\", y=names, ylim=(-2100, 100), title=title,ax=ax)\n",
    "    ax.xaxis.label.set(visible=False)\n",
    "    ax.xaxis.set(ticklabels=[])\n",
    "    ax.yaxis.set_major_formatter(FuncFormatter(\"{:,.0f}\".format))\n",
    "    \n",
    "    ax = axs[1][c]\n",
    "    groups = {}\n",
    "    for n,g in df[df.prob <= p].groupby(\"best\"): groups[n] = g\n",
    "\n",
    "    for n in names:\n",
    "        if n in groups:\n",
    "            g = groups[n]\n",
    "            ax.plot(g.prob, g.cost, label=n)\n",
    "    ax.xaxis.set_major_formatter(FuncFormatter(\"{:.0%}\".format))\n",
    "    ax.yaxis.set_major_formatter(FuncFormatter(\"{:,.0f}\".format))\n",
    "    ax.legend()\n",
    "\n",
    "\n",
    "graphs(0, 1, \"Entire Range\")\n",
    "graphs(1, 0.08, \"Zoom on Lower Range\")\n"
   ]
  },
  {
   "cell_type": "code",
   "execution_count": null,
   "metadata": {},
   "outputs": [],
   "source": []
  }
 ],
 "metadata": {
  "kernelspec": {
   "display_name": "Python 3",
   "language": "python",
   "name": "python3"
  },
  "language_info": {
   "codemirror_mode": {
    "name": "ipython",
    "version": 3
   },
   "file_extension": ".py",
   "mimetype": "text/x-python",
   "name": "python",
   "nbconvert_exporter": "python",
   "pygments_lexer": "ipython3",
   "version": "3.6.4"
  }
 },
 "nbformat": 4,
 "nbformat_minor": 2
}
